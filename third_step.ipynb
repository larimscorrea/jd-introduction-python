{
  "nbformat": 4,
  "nbformat_minor": 0,
  "metadata": {
    "colab": {
      "provenance": [],
      "authorship_tag": "ABX9TyMJ3rQG3A+F5HBBHOR+UkRI",
      "include_colab_link": true
    },
    "kernelspec": {
      "name": "python3",
      "display_name": "Python 3"
    },
    "language_info": {
      "name": "python"
    }
  },
  "cells": [
    {
      "cell_type": "markdown",
      "metadata": {
        "id": "view-in-github",
        "colab_type": "text"
      },
      "source": [
        "<a href=\"https://colab.research.google.com/github/larimscorrea/jd-introduction-python/blob/main/third_step.ipynb\" target=\"_parent\"><img src=\"https://colab.research.google.com/assets/colab-badge.svg\" alt=\"Open In Colab\"/></a>"
      ]
    },
    {
      "cell_type": "markdown",
      "source": [
        "## **NUMPY ARRAYS**"
      ],
      "metadata": {
        "id": "gRh2lv8LrI6h"
      }
    },
    {
      "cell_type": "markdown",
      "source": [
        "Array é uma estrutura de dados que armazena uma coleção de elementos e que cada um dos elementos pode ser identificado por, pelo menos, um índice ou uma chave."
      ],
      "metadata": {
        "id": "XReMzHL2rS1E"
      }
    },
    {
      "cell_type": "code",
      "source": [
        "import numpy as np"
      ],
      "metadata": {
        "id": "YDPFOT7ErUEL"
      },
      "execution_count": null,
      "outputs": []
    },
    {
      "cell_type": "code",
      "source": [
        "lista = list(range(10))"
      ],
      "metadata": {
        "id": "WEUQ_UsurgGc"
      },
      "execution_count": null,
      "outputs": []
    },
    {
      "cell_type": "code",
      "source": [
        "lista"
      ],
      "metadata": {
        "colab": {
          "base_uri": "https://localhost:8080/"
        },
        "id": "4wJVc-K3rhgr",
        "outputId": "31112d3b-654b-460f-c1c8-8e39b0a6cb38"
      },
      "execution_count": null,
      "outputs": [
        {
          "output_type": "execute_result",
          "data": {
            "text/plain": [
              "[0, 1, 2, 3, 4, 5, 6, 7, 8, 9]"
            ]
          },
          "metadata": {},
          "execution_count": 3
        }
      ]
    },
    {
      "cell_type": "code",
      "source": [
        "type(lista)"
      ],
      "metadata": {
        "colab": {
          "base_uri": "https://localhost:8080/"
        },
        "id": "KSPfl5IcrkHf",
        "outputId": "b8285d2f-8e2b-4a5b-8d22-54e7c7cbb09f"
      },
      "execution_count": null,
      "outputs": [
        {
          "output_type": "execute_result",
          "data": {
            "text/plain": [
              "list"
            ]
          },
          "metadata": {},
          "execution_count": 4
        }
      ]
    },
    {
      "cell_type": "code",
      "source": [
        "np.arange(0, 10)"
      ],
      "metadata": {
        "colab": {
          "base_uri": "https://localhost:8080/"
        },
        "id": "JJOYK6eBrs2E",
        "outputId": "d9cfed7c-97a2-42c5-8ac1-db4397387625"
      },
      "execution_count": null,
      "outputs": [
        {
          "output_type": "execute_result",
          "data": {
            "text/plain": [
              "array([0, 1, 2, 3, 4, 5, 6, 7, 8, 9])"
            ]
          },
          "metadata": {},
          "execution_count": 5
        }
      ]
    },
    {
      "cell_type": "code",
      "source": [
        "np.arange(1,10,3)"
      ],
      "metadata": {
        "colab": {
          "base_uri": "https://localhost:8080/"
        },
        "id": "468Zxh5JsfWk",
        "outputId": "a157fc0e-4cdc-4d3e-e0e1-5c8f0c732ae3"
      },
      "execution_count": null,
      "outputs": [
        {
          "output_type": "execute_result",
          "data": {
            "text/plain": [
              "array([1, 4, 7])"
            ]
          },
          "metadata": {},
          "execution_count": 6
        }
      ]
    },
    {
      "cell_type": "markdown",
      "source": [
        "**LISTA CONVERTIDA EM ARRAY**"
      ],
      "metadata": {
        "id": "73YZFFd3sz4E"
      }
    },
    {
      "cell_type": "code",
      "source": [
        "a = np.array(lista)\n",
        "a"
      ],
      "metadata": {
        "colab": {
          "base_uri": "https://localhost:8080/"
        },
        "id": "xkIBrpnBs5N-",
        "outputId": "8f88a89f-34ce-406b-c917-03239d0f37e7"
      },
      "execution_count": null,
      "outputs": [
        {
          "output_type": "execute_result",
          "data": {
            "text/plain": [
              "array([0, 1, 2, 3, 4, 5, 6, 7, 8, 9])"
            ]
          },
          "metadata": {},
          "execution_count": 7
        }
      ]
    },
    {
      "cell_type": "code",
      "source": [
        "type(a)"
      ],
      "metadata": {
        "colab": {
          "base_uri": "https://localhost:8080/"
        },
        "id": "MY63-tmctFMy",
        "outputId": "91374c65-62fa-4f8c-be28-b9b84de9da28"
      },
      "execution_count": null,
      "outputs": [
        {
          "output_type": "execute_result",
          "data": {
            "text/plain": [
              "numpy.ndarray"
            ]
          },
          "metadata": {},
          "execution_count": 8
        }
      ]
    },
    {
      "cell_type": "markdown",
      "source": [
        "**LISTA COM VÁRIOS TIPOS DE VARIÁVEIS**"
      ],
      "metadata": {
        "id": "KZ_13d_AtHgO"
      }
    },
    {
      "cell_type": "code",
      "source": [
        "misturados = [2.3, 9, 'nome', False]"
      ],
      "metadata": {
        "id": "SD-eglKmtPpW"
      },
      "execution_count": null,
      "outputs": []
    },
    {
      "cell_type": "markdown",
      "source": [
        "**ESTRUTURA DE REPETIÇÃO**"
      ],
      "metadata": {
        "id": "_zna3RcTtU8w"
      }
    },
    {
      "cell_type": "code",
      "source": [
        "for el in misturados:\n",
        "    print(type(el))"
      ],
      "metadata": {
        "colab": {
          "base_uri": "https://localhost:8080/"
        },
        "id": "qWsnNXuptZY0",
        "outputId": "b7a0f6ec-1222-4dbe-b80d-8e6ea077f807"
      },
      "execution_count": null,
      "outputs": [
        {
          "output_type": "stream",
          "name": "stdout",
          "text": [
            "<class 'float'>\n",
            "<class 'int'>\n",
            "<class 'str'>\n",
            "<class 'bool'>\n"
          ]
        }
      ]
    },
    {
      "cell_type": "code",
      "source": [
        "misturados_array = np.array(misturados)\n",
        "type(misturados_array)"
      ],
      "metadata": {
        "colab": {
          "base_uri": "https://localhost:8080/"
        },
        "id": "oK3W4ZP-tyoG",
        "outputId": "4c4d849f-8608-4de1-d39a-77c0a36b650c"
      },
      "execution_count": null,
      "outputs": [
        {
          "output_type": "execute_result",
          "data": {
            "text/plain": [
              "numpy.ndarray"
            ]
          },
          "metadata": {},
          "execution_count": 11
        }
      ]
    },
    {
      "cell_type": "markdown",
      "source": [
        "**ARRAY CONVERTIDO EM STRING**"
      ],
      "metadata": {
        "id": "Y9xi8FvNtn82"
      }
    },
    {
      "cell_type": "code",
      "source": [
        "for el in misturados_array:\n",
        "    print(type(el))"
      ],
      "metadata": {
        "colab": {
          "base_uri": "https://localhost:8080/"
        },
        "id": "zryg3w2Dt9vH",
        "outputId": "6023e7d9-61c0-4f3a-e379-a041f0548459"
      },
      "execution_count": null,
      "outputs": [
        {
          "output_type": "stream",
          "name": "stdout",
          "text": [
            "<class 'numpy.str_'>\n",
            "<class 'numpy.str_'>\n",
            "<class 'numpy.str_'>\n",
            "<class 'numpy.str_'>\n"
          ]
        }
      ]
    },
    {
      "cell_type": "code",
      "source": [
        "nums = [1,2,3,4,5.0]\n",
        "np.array(nums)"
      ],
      "metadata": {
        "colab": {
          "base_uri": "https://localhost:8080/"
        },
        "id": "i9mln4GOuMGF",
        "outputId": "3e8e02f8-41d8-4cb9-9d76-555adfac5cff"
      },
      "execution_count": null,
      "outputs": [
        {
          "output_type": "execute_result",
          "data": {
            "text/plain": [
              "array([1., 2., 3., 4., 5.])"
            ]
          },
          "metadata": {},
          "execution_count": 13
        }
      ]
    },
    {
      "cell_type": "markdown",
      "source": [
        "## **OPERAÇÕES INTELIGENTES**"
      ],
      "metadata": {
        "id": "1sHndzQQzbhV"
      }
    },
    {
      "cell_type": "markdown",
      "source": [
        "**CRIANDO UMA LISTA**"
      ],
      "metadata": {
        "id": "bEvldpS3zwWP"
      }
    },
    {
      "cell_type": "code",
      "source": [
        "lista = [1,2,3,4,5]"
      ],
      "metadata": {
        "id": "wKdwHcOiz0pT"
      },
      "execution_count": null,
      "outputs": []
    },
    {
      "cell_type": "markdown",
      "source": [
        "**DEFININDO COMO UM ARRAY**"
      ],
      "metadata": {
        "id": "TVFgWOrZz9Kv"
      }
    },
    {
      "cell_type": "code",
      "source": [
        "array = np.array(lista)"
      ],
      "metadata": {
        "id": "g9vM5g8D0Bcg"
      },
      "execution_count": null,
      "outputs": []
    },
    {
      "cell_type": "code",
      "source": [
        "array+20\n"
      ],
      "metadata": {
        "colab": {
          "base_uri": "https://localhost:8080/"
        },
        "id": "u-4tuSLX0inv",
        "outputId": "8bafd6b2-596e-4aee-d306-b70581e21d6c"
      },
      "execution_count": null,
      "outputs": [
        {
          "output_type": "execute_result",
          "data": {
            "text/plain": [
              "array([21, 22, 23, 24, 25])"
            ]
          },
          "metadata": {},
          "execution_count": 16
        }
      ]
    },
    {
      "cell_type": "code",
      "source": [
        "lista+10"
      ],
      "metadata": {
        "colab": {
          "base_uri": "https://localhost:8080/",
          "height": 165
        },
        "id": "sA2jgZcV0tw-",
        "outputId": "a413cf2f-4d98-4ee8-eebd-f086ce1fd8b4"
      },
      "execution_count": null,
      "outputs": [
        {
          "output_type": "error",
          "ename": "TypeError",
          "evalue": "ignored",
          "traceback": [
            "\u001b[0;31m---------------------------------------------------------------------------\u001b[0m",
            "\u001b[0;31mTypeError\u001b[0m                                 Traceback (most recent call last)",
            "\u001b[0;32m<ipython-input-24-f60fe92d8da7>\u001b[0m in \u001b[0;36m<module>\u001b[0;34m\u001b[0m\n\u001b[0;32m----> 1\u001b[0;31m \u001b[0mlista\u001b[0m\u001b[0;34m+\u001b[0m\u001b[0;36m10\u001b[0m\u001b[0;34m\u001b[0m\u001b[0;34m\u001b[0m\u001b[0m\n\u001b[0m",
            "\u001b[0;31mTypeError\u001b[0m: can only concatenate list (not \"int\") to list"
          ]
        }
      ]
    },
    {
      "cell_type": "markdown",
      "source": [
        "**LISTA VAZIA**"
      ],
      "metadata": {
        "id": "Zva_5Vfa0yTW"
      }
    },
    {
      "cell_type": "code",
      "source": [
        "lista20 = []"
      ],
      "metadata": {
        "id": "XtdPdaUY00Sd"
      },
      "execution_count": null,
      "outputs": []
    },
    {
      "cell_type": "markdown",
      "source": [
        "**ESTRUTURA DE REPETIÇÃO**"
      ],
      "metadata": {
        "id": "cFRlsMnz04e8"
      }
    },
    {
      "cell_type": "code",
      "source": [
        "lista20 = 1, 3, 5, 7\n",
        "for n in lista:\n",
        "    lista20.append(n+20)"
      ],
      "metadata": {
        "colab": {
          "base_uri": "https://localhost:8080/",
          "height": 200
        },
        "id": "TRKTiwSa3WrR",
        "outputId": "175fdd68-3d8d-44c5-dfe0-5720af6f928a"
      },
      "execution_count": null,
      "outputs": [
        {
          "output_type": "error",
          "ename": "AttributeError",
          "evalue": "ignored",
          "traceback": [
            "\u001b[0;31m---------------------------------------------------------------------------\u001b[0m",
            "\u001b[0;31mAttributeError\u001b[0m                            Traceback (most recent call last)",
            "\u001b[0;32m<ipython-input-25-517692b3353a>\u001b[0m in \u001b[0;36m<module>\u001b[0;34m\u001b[0m\n\u001b[1;32m      1\u001b[0m \u001b[0mlista20\u001b[0m \u001b[0;34m=\u001b[0m \u001b[0;36m1\u001b[0m\u001b[0;34m,\u001b[0m \u001b[0;36m3\u001b[0m\u001b[0;34m,\u001b[0m \u001b[0;36m5\u001b[0m\u001b[0;34m,\u001b[0m \u001b[0;36m7\u001b[0m\u001b[0;34m\u001b[0m\u001b[0;34m\u001b[0m\u001b[0m\n\u001b[1;32m      2\u001b[0m \u001b[0;32mfor\u001b[0m \u001b[0mn\u001b[0m \u001b[0;32min\u001b[0m \u001b[0mlista\u001b[0m\u001b[0;34m:\u001b[0m\u001b[0;34m\u001b[0m\u001b[0;34m\u001b[0m\u001b[0m\n\u001b[0;32m----> 3\u001b[0;31m     \u001b[0mlista20\u001b[0m\u001b[0;34m.\u001b[0m\u001b[0mappend\u001b[0m\u001b[0;34m(\u001b[0m\u001b[0mn\u001b[0m\u001b[0;34m+\u001b[0m\u001b[0;36m20\u001b[0m\u001b[0;34m)\u001b[0m\u001b[0;34m\u001b[0m\u001b[0;34m\u001b[0m\u001b[0m\n\u001b[0m",
            "\u001b[0;31mAttributeError\u001b[0m: 'tuple' object has no attribute 'append'"
          ]
        }
      ]
    },
    {
      "cell_type": "markdown",
      "source": [
        "**RAIZ QUADRADA**"
      ],
      "metadata": {
        "id": "xeqsEWs4pmJg"
      }
    },
    {
      "cell_type": "markdown",
      "source": [
        "# **NUMPY ARRAYS: INDEXANDO E CORTANDO 'SICLING'**"
      ],
      "metadata": {
        "id": "SZCIC_RHovwR"
      }
    },
    {
      "cell_type": "code",
      "source": [
        "array = np.arange(1,11)"
      ],
      "metadata": {
        "id": "nNxvsv4lpKWY"
      },
      "execution_count": null,
      "outputs": []
    }
  ]
}