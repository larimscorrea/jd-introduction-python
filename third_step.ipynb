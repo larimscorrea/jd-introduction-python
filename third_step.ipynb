{
  "nbformat": 4,
  "nbformat_minor": 0,
  "metadata": {
    "colab": {
      "provenance": [],
      "authorship_tag": "ABX9TyOP+0t2CVteFgl0Gke2oF7L",
      "include_colab_link": true
    },
    "kernelspec": {
      "name": "python3",
      "display_name": "Python 3"
    },
    "language_info": {
      "name": "python"
    }
  },
  "cells": [
    {
      "cell_type": "markdown",
      "metadata": {
        "id": "view-in-github",
        "colab_type": "text"
      },
      "source": [
        "<a href=\"https://colab.research.google.com/github/larimscorrea/jd-introduction-python/blob/main/third_step.ipynb\" target=\"_parent\"><img src=\"https://colab.research.google.com/assets/colab-badge.svg\" alt=\"Open In Colab\"/></a>"
      ]
    },
    {
      "cell_type": "code",
      "source": [
        "pip install qrcode"
      ],
      "metadata": {
        "colab": {
          "base_uri": "https://localhost:8080/"
        },
        "id": "MKyNTXvYCUK9",
        "outputId": "890a2e81-0c2d-4222-f55a-4457816f7a2a"
      },
      "execution_count": 10,
      "outputs": [
        {
          "output_type": "stream",
          "name": "stdout",
          "text": [
            "Looking in indexes: https://pypi.org/simple, https://us-python.pkg.dev/colab-wheels/public/simple/\n",
            "Requirement already satisfied: qrcode in /usr/local/lib/python3.8/dist-packages (7.3.1)\n"
          ]
        }
      ]
    },
    {
      "cell_type": "code",
      "source": [
        "import qrcode"
      ],
      "metadata": {
        "id": "MTjSoSgnCWhJ"
      },
      "execution_count": 11,
      "outputs": []
    },
    {
      "cell_type": "code",
      "source": [
        "data = input(\"Cole o que você quer criar como qr code.\") #criando a variável\n",
        "img = qrcode.make(data) #gerando o qr code\n",
        "img.save('Qrcode.png') #salvando o qrcode"
      ],
      "metadata": {
        "id": "myphbrhPCk8d",
        "colab": {
          "base_uri": "https://localhost:8080/"
        },
        "outputId": "cf222b40-e002-45c7-f647-61a9e0840212"
      },
      "execution_count": 12,
      "outputs": [
        {
          "name": "stdout",
          "output_type": "stream",
          "text": [
            "Cole o que você quer criar como qr code.https://www.youtube.com/watch?v=DNaSlUYIXBg&list=RDGlZxZ2n2zpw&index=5&ab_channel=TaylorSwiftVEVO\n"
          ]
        }
      ]
    },
    {
      "cell_type": "markdown",
      "source": [
        "## **NUMPY ARRAYS**"
      ],
      "metadata": {
        "id": "gRh2lv8LrI6h"
      }
    },
    {
      "cell_type": "markdown",
      "source": [
        "Array é uma estrutura de dados que armazena uma coleção de elementos e que cada um dos elementos pode ser identificado por, pelo menos, um índice ou uma chave."
      ],
      "metadata": {
        "id": "XReMzHL2rS1E"
      }
    },
    {
      "cell_type": "code",
      "source": [
        "import numpy as np"
      ],
      "metadata": {
        "id": "YDPFOT7ErUEL"
      },
      "execution_count": 13,
      "outputs": []
    },
    {
      "cell_type": "code",
      "source": [
        "lista = list(range(10))"
      ],
      "metadata": {
        "id": "WEUQ_UsurgGc"
      },
      "execution_count": 14,
      "outputs": []
    },
    {
      "cell_type": "code",
      "source": [
        "lista"
      ],
      "metadata": {
        "colab": {
          "base_uri": "https://localhost:8080/"
        },
        "id": "4wJVc-K3rhgr",
        "outputId": "2549eecb-deb0-4ade-bbc6-bb8fd2a54fd6"
      },
      "execution_count": 15,
      "outputs": [
        {
          "output_type": "execute_result",
          "data": {
            "text/plain": [
              "[0, 1, 2, 3, 4, 5, 6, 7, 8, 9]"
            ]
          },
          "metadata": {},
          "execution_count": 15
        }
      ]
    },
    {
      "cell_type": "code",
      "source": [
        "type(lista)"
      ],
      "metadata": {
        "colab": {
          "base_uri": "https://localhost:8080/"
        },
        "id": "KSPfl5IcrkHf",
        "outputId": "bb0f0430-2d71-4e1d-b51f-da0a36bdb617"
      },
      "execution_count": 16,
      "outputs": [
        {
          "output_type": "execute_result",
          "data": {
            "text/plain": [
              "list"
            ]
          },
          "metadata": {},
          "execution_count": 16
        }
      ]
    },
    {
      "cell_type": "code",
      "source": [
        "np.arange(0, 10)"
      ],
      "metadata": {
        "colab": {
          "base_uri": "https://localhost:8080/"
        },
        "id": "JJOYK6eBrs2E",
        "outputId": "3d87e58a-21d9-40e6-d6ab-6d19fe67e889"
      },
      "execution_count": 17,
      "outputs": [
        {
          "output_type": "execute_result",
          "data": {
            "text/plain": [
              "array([0, 1, 2, 3, 4, 5, 6, 7, 8, 9])"
            ]
          },
          "metadata": {},
          "execution_count": 17
        }
      ]
    },
    {
      "cell_type": "code",
      "source": [
        "np.arange(1,10,3)"
      ],
      "metadata": {
        "colab": {
          "base_uri": "https://localhost:8080/"
        },
        "id": "468Zxh5JsfWk",
        "outputId": "8dea1415-79c6-4651-abc2-769b674f279e"
      },
      "execution_count": 18,
      "outputs": [
        {
          "output_type": "execute_result",
          "data": {
            "text/plain": [
              "array([1, 4, 7])"
            ]
          },
          "metadata": {},
          "execution_count": 18
        }
      ]
    },
    {
      "cell_type": "markdown",
      "source": [
        "**LISTA CONVERTIDA EM ARRAY**"
      ],
      "metadata": {
        "id": "73YZFFd3sz4E"
      }
    },
    {
      "cell_type": "code",
      "source": [
        "a = np.array(lista)\n",
        "a"
      ],
      "metadata": {
        "colab": {
          "base_uri": "https://localhost:8080/"
        },
        "id": "xkIBrpnBs5N-",
        "outputId": "f500ad58-fa05-4e37-9cbc-173f289a620b"
      },
      "execution_count": 19,
      "outputs": [
        {
          "output_type": "execute_result",
          "data": {
            "text/plain": [
              "array([0, 1, 2, 3, 4, 5, 6, 7, 8, 9])"
            ]
          },
          "metadata": {},
          "execution_count": 19
        }
      ]
    },
    {
      "cell_type": "code",
      "source": [
        "type(a)"
      ],
      "metadata": {
        "colab": {
          "base_uri": "https://localhost:8080/"
        },
        "id": "MY63-tmctFMy",
        "outputId": "bc31e6c2-384d-4efc-d5fb-883232ec7c7f"
      },
      "execution_count": 20,
      "outputs": [
        {
          "output_type": "execute_result",
          "data": {
            "text/plain": [
              "numpy.ndarray"
            ]
          },
          "metadata": {},
          "execution_count": 20
        }
      ]
    },
    {
      "cell_type": "markdown",
      "source": [
        "**LISTA COM VÁRIOS TIPOS DE VARIÁVEIS**"
      ],
      "metadata": {
        "id": "KZ_13d_AtHgO"
      }
    },
    {
      "cell_type": "code",
      "source": [
        "misturados = [2.3, 9, 'nome', False]"
      ],
      "metadata": {
        "id": "SD-eglKmtPpW"
      },
      "execution_count": 21,
      "outputs": []
    },
    {
      "cell_type": "markdown",
      "source": [
        "**ESTRUTURA DE REPETIÇÃO**"
      ],
      "metadata": {
        "id": "_zna3RcTtU8w"
      }
    },
    {
      "cell_type": "code",
      "source": [
        "for el in misturados:\n",
        "    print(type(el))"
      ],
      "metadata": {
        "colab": {
          "base_uri": "https://localhost:8080/"
        },
        "id": "qWsnNXuptZY0",
        "outputId": "04ec3f1a-4562-4210-b0e4-f832d8e50b07"
      },
      "execution_count": 22,
      "outputs": [
        {
          "output_type": "stream",
          "name": "stdout",
          "text": [
            "<class 'float'>\n",
            "<class 'int'>\n",
            "<class 'str'>\n",
            "<class 'bool'>\n"
          ]
        }
      ]
    },
    {
      "cell_type": "code",
      "source": [
        "misturados_array = np.array(misturados)\n",
        "type(misturados_array)"
      ],
      "metadata": {
        "colab": {
          "base_uri": "https://localhost:8080/"
        },
        "id": "oK3W4ZP-tyoG",
        "outputId": "ae2ee62e-3591-47e8-ed36-7559ece55bee"
      },
      "execution_count": 23,
      "outputs": [
        {
          "output_type": "execute_result",
          "data": {
            "text/plain": [
              "numpy.ndarray"
            ]
          },
          "metadata": {},
          "execution_count": 23
        }
      ]
    },
    {
      "cell_type": "markdown",
      "source": [
        "**ARRAY CONVERTIDO EM STRING**"
      ],
      "metadata": {
        "id": "Y9xi8FvNtn82"
      }
    },
    {
      "cell_type": "code",
      "source": [
        "for el in misturados_array:\n",
        "    print(type(el))"
      ],
      "metadata": {
        "colab": {
          "base_uri": "https://localhost:8080/"
        },
        "id": "zryg3w2Dt9vH",
        "outputId": "a19fd84c-f1e3-42f4-8266-04251b7fa7c7"
      },
      "execution_count": 24,
      "outputs": [
        {
          "output_type": "stream",
          "name": "stdout",
          "text": [
            "<class 'numpy.str_'>\n",
            "<class 'numpy.str_'>\n",
            "<class 'numpy.str_'>\n",
            "<class 'numpy.str_'>\n"
          ]
        }
      ]
    },
    {
      "cell_type": "code",
      "source": [
        "nums = [1,2,3,4,5.0]\n",
        "np.array(nums)"
      ],
      "metadata": {
        "colab": {
          "base_uri": "https://localhost:8080/"
        },
        "id": "i9mln4GOuMGF",
        "outputId": "f38750a2-535b-4f37-f9a6-30ffdda10b52"
      },
      "execution_count": 25,
      "outputs": [
        {
          "output_type": "execute_result",
          "data": {
            "text/plain": [
              "array([1., 2., 3., 4., 5.])"
            ]
          },
          "metadata": {},
          "execution_count": 25
        }
      ]
    },
    {
      "cell_type": "markdown",
      "source": [
        "## **OPERAÇÕES INTELIGENTES**"
      ],
      "metadata": {
        "id": "1sHndzQQzbhV"
      }
    },
    {
      "cell_type": "markdown",
      "source": [
        "**CRIANDO UMA LISTA**"
      ],
      "metadata": {
        "id": "bEvldpS3zwWP"
      }
    },
    {
      "cell_type": "code",
      "source": [
        "lista = [1,2,3,4,5]"
      ],
      "metadata": {
        "id": "wKdwHcOiz0pT"
      },
      "execution_count": 26,
      "outputs": []
    },
    {
      "cell_type": "markdown",
      "source": [
        "**DEFININDO COMO UM ARRAY**"
      ],
      "metadata": {
        "id": "TVFgWOrZz9Kv"
      }
    },
    {
      "cell_type": "code",
      "source": [
        "array = np.array(lista)"
      ],
      "metadata": {
        "id": "g9vM5g8D0Bcg"
      },
      "execution_count": 27,
      "outputs": []
    },
    {
      "cell_type": "code",
      "source": [
        "array+20\n"
      ],
      "metadata": {
        "id": "u-4tuSLX0inv",
        "colab": {
          "base_uri": "https://localhost:8080/"
        },
        "outputId": "3284d034-b79c-4e5e-80ac-699391e4e78c"
      },
      "execution_count": 28,
      "outputs": [
        {
          "output_type": "execute_result",
          "data": {
            "text/plain": [
              "array([21, 22, 23, 24, 25])"
            ]
          },
          "metadata": {},
          "execution_count": 28
        }
      ]
    },
    {
      "cell_type": "code",
      "source": [
        "lista+20"
      ],
      "metadata": {
        "colab": {
          "base_uri": "https://localhost:8080/",
          "height": 171
        },
        "id": "sA2jgZcV0tw-",
        "outputId": "1dd7abfd-eccc-4282-f54e-2a8d69b91bf0"
      },
      "execution_count": 29,
      "outputs": [
        {
          "output_type": "error",
          "ename": "TypeError",
          "evalue": "ignored",
          "traceback": [
            "\u001b[0;31m---------------------------------------------------------------------------\u001b[0m",
            "\u001b[0;31mTypeError\u001b[0m                                 Traceback (most recent call last)",
            "\u001b[0;32m<ipython-input-29-bf219895a1d5>\u001b[0m in \u001b[0;36m<module>\u001b[0;34m\u001b[0m\n\u001b[0;32m----> 1\u001b[0;31m \u001b[0mlista\u001b[0m\u001b[0;34m+\u001b[0m\u001b[0;36m20\u001b[0m\u001b[0;34m\u001b[0m\u001b[0;34m\u001b[0m\u001b[0m\n\u001b[0m",
            "\u001b[0;31mTypeError\u001b[0m: can only concatenate list (not \"int\") to list"
          ]
        }
      ]
    },
    {
      "cell_type": "markdown",
      "source": [
        "**LISTA VAZIA**"
      ],
      "metadata": {
        "id": "Zva_5Vfa0yTW"
      }
    },
    {
      "cell_type": "code",
      "source": [
        "lista20 = []"
      ],
      "metadata": {
        "id": "XtdPdaUY00Sd"
      },
      "execution_count": 31,
      "outputs": []
    },
    {
      "cell_type": "markdown",
      "source": [
        "**ESTRUTURA DE REPETIÇÃO**"
      ],
      "metadata": {
        "id": "cFRlsMnz04e8"
      }
    },
    {
      "cell_type": "code",
      "source": [
        "for n in lista:\n",
        "    lista20.append(n+20)"
      ],
      "metadata": {
        "colab": {
          "base_uri": "https://localhost:8080/",
          "height": 190
        },
        "id": "TRKTiwSa3WrR",
        "outputId": "016d2075-389f-41b1-cace-f58bbaf9b6db"
      },
      "execution_count": 34,
      "outputs": [
        {
          "output_type": "error",
          "ename": "AttributeError",
          "evalue": "ignored",
          "traceback": [
            "\u001b[0;31m---------------------------------------------------------------------------\u001b[0m",
            "\u001b[0;31mAttributeError\u001b[0m                            Traceback (most recent call last)",
            "\u001b[0;32m<ipython-input-34-af2f7bd903b0>\u001b[0m in \u001b[0;36m<module>\u001b[0;34m\u001b[0m\n\u001b[1;32m      1\u001b[0m \u001b[0;32mfor\u001b[0m \u001b[0mn\u001b[0m \u001b[0;32min\u001b[0m \u001b[0mlista\u001b[0m\u001b[0;34m:\u001b[0m\u001b[0;34m\u001b[0m\u001b[0;34m\u001b[0m\u001b[0m\n\u001b[0;32m----> 2\u001b[0;31m     \u001b[0mlista20\u001b[0m\u001b[0;34m.\u001b[0m\u001b[0mappend\u001b[0m\u001b[0;34m(\u001b[0m\u001b[0mn\u001b[0m\u001b[0;34m+\u001b[0m\u001b[0;36m20\u001b[0m\u001b[0;34m)\u001b[0m\u001b[0;34m\u001b[0m\u001b[0;34m\u001b[0m\u001b[0m\n\u001b[0m",
            "\u001b[0;31mAttributeError\u001b[0m: 'tuple' object has no attribute 'append'"
          ]
        }
      ]
    },
    {
      "cell_type": "code",
      "source": [
        "[n+20 for n in lista]"
      ],
      "metadata": {
        "colab": {
          "base_uri": "https://localhost:8080/"
        },
        "id": "c3fUOxQeR4wT",
        "outputId": "cdd36e23-dc78-47f3-a6dd-dd9aee4826fa"
      },
      "execution_count": 35,
      "outputs": [
        {
          "output_type": "execute_result",
          "data": {
            "text/plain": [
              "[21, 22, 23, 24, 25]"
            ]
          },
          "metadata": {},
          "execution_count": 35
        }
      ]
    },
    {
      "cell_type": "markdown",
      "source": [
        "**RAIZ QUADRADA**"
      ],
      "metadata": {
        "id": "xeqsEWs4pmJg"
      }
    },
    {
      "cell_type": "code",
      "source": [
        "np.sqrt(array)"
      ],
      "metadata": {
        "id": "aDIA5hO1QVUA",
        "colab": {
          "base_uri": "https://localhost:8080/"
        },
        "outputId": "a6c741c5-5c32-4051-c63d-740fd3b192d9"
      },
      "execution_count": 36,
      "outputs": [
        {
          "output_type": "execute_result",
          "data": {
            "text/plain": [
              "array([1.        , 1.41421356, 1.73205081, 2.        , 2.23606798])"
            ]
          },
          "metadata": {},
          "execution_count": 36
        }
      ]
    },
    {
      "cell_type": "markdown",
      "source": [
        "**ARREDONDAR PRA CIMA**"
      ],
      "metadata": {
        "id": "fZ9dc9-eSDtF"
      }
    },
    {
      "cell_type": "code",
      "source": [
        "np.ceil(array)"
      ],
      "metadata": {
        "colab": {
          "base_uri": "https://localhost:8080/"
        },
        "id": "BEpI4rWtSISz",
        "outputId": "0107d0ae-78e1-4df1-c41d-7075c506ca98"
      },
      "execution_count": 38,
      "outputs": [
        {
          "output_type": "execute_result",
          "data": {
            "text/plain": [
              "array([1., 2., 3., 4., 5.])"
            ]
          },
          "metadata": {},
          "execution_count": 38
        }
      ]
    },
    {
      "cell_type": "markdown",
      "source": [
        "**ARREDONDAR PRA BAIXO**"
      ],
      "metadata": {
        "id": "3CF2UL7cSPGA"
      }
    },
    {
      "cell_type": "code",
      "source": [
        "np.floor(array)"
      ],
      "metadata": {
        "colab": {
          "base_uri": "https://localhost:8080/"
        },
        "id": "vV6EJZjgSR6F",
        "outputId": "d0553b8b-1866-4b35-81a7-eb8b9bf58425"
      },
      "execution_count": 40,
      "outputs": [
        {
          "output_type": "execute_result",
          "data": {
            "text/plain": [
              "array([1., 2., 3., 4., 5.])"
            ]
          },
          "metadata": {},
          "execution_count": 40
        }
      ]
    },
    {
      "cell_type": "markdown",
      "source": [
        "**ARREDONDAR PRA CASA DECIMAL**"
      ],
      "metadata": {
        "id": "t6mY48omSXVI"
      }
    },
    {
      "cell_type": "code",
      "source": [
        "np.around(array,1)"
      ],
      "metadata": {
        "colab": {
          "base_uri": "https://localhost:8080/"
        },
        "id": "IjFPtYbYSe7i",
        "outputId": "40618351-e486-4071-8668-6e93d41fd4d8"
      },
      "execution_count": 42,
      "outputs": [
        {
          "output_type": "execute_result",
          "data": {
            "text/plain": [
              "array([1, 2, 3, 4, 5])"
            ]
          },
          "metadata": {},
          "execution_count": 42
        }
      ]
    },
    {
      "cell_type": "markdown",
      "source": [
        "# **NUMPY ARRAYS: INDEXANDO E CORTANDO 'SICLING'**"
      ],
      "metadata": {
        "id": "SZCIC_RHovwR"
      }
    },
    {
      "cell_type": "code",
      "source": [
        "array = np.arange(1,11)"
      ],
      "metadata": {
        "id": "nNxvsv4lpKWY"
      },
      "execution_count": 43,
      "outputs": []
    },
    {
      "cell_type": "code",
      "source": [
        "array"
      ],
      "metadata": {
        "colab": {
          "base_uri": "https://localhost:8080/"
        },
        "id": "fSP7o9WDSvJD",
        "outputId": "b573393e-1e59-4ff2-c2a2-22b7074b3d72"
      },
      "execution_count": 45,
      "outputs": [
        {
          "output_type": "execute_result",
          "data": {
            "text/plain": [
              "array([ 1,  2,  3,  4,  5,  6,  7,  8,  9, 10])"
            ]
          },
          "metadata": {},
          "execution_count": 45
        }
      ]
    },
    {
      "cell_type": "code",
      "source": [
        "array[6]"
      ],
      "metadata": {
        "colab": {
          "base_uri": "https://localhost:8080/"
        },
        "id": "Tvk18UaaS1iC",
        "outputId": "c2a8c2f0-412e-4ab2-b27b-4fea2a01dc1a"
      },
      "execution_count": 46,
      "outputs": [
        {
          "output_type": "execute_result",
          "data": {
            "text/plain": [
              "7"
            ]
          },
          "metadata": {},
          "execution_count": 46
        }
      ]
    },
    {
      "cell_type": "markdown",
      "source": [
        "**PRIMEIRO ELEMENTO**"
      ],
      "metadata": {
        "id": "KO__HrFLS77s"
      }
    },
    {
      "cell_type": "code",
      "source": [
        "array[-10]"
      ],
      "metadata": {
        "colab": {
          "base_uri": "https://localhost:8080/"
        },
        "id": "pjjN4y_1S-mO",
        "outputId": "cd75fb03-3008-4218-bffb-fa4676b96d30"
      },
      "execution_count": 47,
      "outputs": [
        {
          "output_type": "execute_result",
          "data": {
            "text/plain": [
              "1"
            ]
          },
          "metadata": {},
          "execution_count": 47
        }
      ]
    },
    {
      "cell_type": "markdown",
      "source": [
        "**ÚLTIMO ELEMENTO**"
      ],
      "metadata": {
        "id": "AFxAf6CsTHqY"
      }
    },
    {
      "cell_type": "code",
      "source": [
        "array[-1]"
      ],
      "metadata": {
        "colab": {
          "base_uri": "https://localhost:8080/"
        },
        "id": "wx8whlMgTHTJ",
        "outputId": "8f667c89-2de4-40a7-c43b-7621aa405d61"
      },
      "execution_count": 48,
      "outputs": [
        {
          "output_type": "execute_result",
          "data": {
            "text/plain": [
              "10"
            ]
          },
          "metadata": {},
          "execution_count": 48
        }
      ]
    },
    {
      "cell_type": "code",
      "source": [
        "array[2:7]"
      ],
      "metadata": {
        "colab": {
          "base_uri": "https://localhost:8080/"
        },
        "id": "pDraylJvTXYl",
        "outputId": "83b0a25f-ac2e-4625-82d7-1295f379db66"
      },
      "execution_count": 50,
      "outputs": [
        {
          "output_type": "execute_result",
          "data": {
            "text/plain": [
              "array([3, 4, 5, 6, 7])"
            ]
          },
          "metadata": {},
          "execution_count": 50
        }
      ]
    },
    {
      "cell_type": "markdown",
      "source": [
        "**OS 5 PRIMEIROS**"
      ],
      "metadata": {
        "id": "WFXHM9lqTzco"
      }
    },
    {
      "cell_type": "code",
      "source": [
        "array[:5]"
      ],
      "metadata": {
        "colab": {
          "base_uri": "https://localhost:8080/"
        },
        "id": "X3v8GbsST15b",
        "outputId": "0bf8a633-c63c-4200-bf88-9ea062f20f6f"
      },
      "execution_count": 52,
      "outputs": [
        {
          "output_type": "execute_result",
          "data": {
            "text/plain": [
              "array([1, 2, 3, 4, 5])"
            ]
          },
          "metadata": {},
          "execution_count": 52
        }
      ]
    },
    {
      "cell_type": "markdown",
      "source": [
        "**OS 5 ÚLTIMOS**"
      ],
      "metadata": {
        "id": "-redefcHT6uU"
      }
    },
    {
      "cell_type": "code",
      "source": [
        "array[5:]"
      ],
      "metadata": {
        "colab": {
          "base_uri": "https://localhost:8080/"
        },
        "id": "C4vWjhtMUBVt",
        "outputId": "65f59b46-be27-424a-ccb9-9fe02428a614"
      },
      "execution_count": 53,
      "outputs": [
        {
          "output_type": "execute_result",
          "data": {
            "text/plain": [
              "array([ 6,  7,  8,  9, 10])"
            ]
          },
          "metadata": {},
          "execution_count": 53
        }
      ]
    },
    {
      "cell_type": "markdown",
      "source": [
        "**TODOS OS ELEMENTOS**"
      ],
      "metadata": {
        "id": "SVZ1D2YpUSkM"
      }
    },
    {
      "cell_type": "code",
      "source": [
        "array[:]"
      ],
      "metadata": {
        "colab": {
          "base_uri": "https://localhost:8080/"
        },
        "id": "mWorrhxuUUys",
        "outputId": "71370034-a831-431b-f838-0d1b733187f6"
      },
      "execution_count": 54,
      "outputs": [
        {
          "output_type": "execute_result",
          "data": {
            "text/plain": [
              "array([ 1,  2,  3,  4,  5,  6,  7,  8,  9, 10])"
            ]
          },
          "metadata": {},
          "execution_count": 54
        }
      ]
    },
    {
      "cell_type": "markdown",
      "source": [
        "**ELEMENTOS DE FORMA INVERSA**"
      ],
      "metadata": {
        "id": "TcJmkLUmUXrm"
      }
    },
    {
      "cell_type": "code",
      "source": [
        "array[::-1]"
      ],
      "metadata": {
        "colab": {
          "base_uri": "https://localhost:8080/"
        },
        "id": "17akpWNLUbXt",
        "outputId": "fedfeed9-4c5a-4976-8f41-d3636ddf93c4"
      },
      "execution_count": 55,
      "outputs": [
        {
          "output_type": "execute_result",
          "data": {
            "text/plain": [
              "array([10,  9,  8,  7,  6,  5,  4,  3,  2,  1])"
            ]
          },
          "metadata": {},
          "execution_count": 55
        }
      ]
    },
    {
      "cell_type": "markdown",
      "source": [
        "**ELEMENTOS DE DOIS EM DOIS**"
      ],
      "metadata": {
        "id": "ZEJp0AdTUfV-"
      }
    },
    {
      "cell_type": "code",
      "source": [
        "array[1::2]"
      ],
      "metadata": {
        "colab": {
          "base_uri": "https://localhost:8080/"
        },
        "id": "jqNJSbl5UklV",
        "outputId": "bdf0a2fa-190f-4c3b-81bd-fe6cebeb7f68"
      },
      "execution_count": 57,
      "outputs": [
        {
          "output_type": "execute_result",
          "data": {
            "text/plain": [
              "array([ 2,  4,  6,  8, 10])"
            ]
          },
          "metadata": {},
          "execution_count": 57
        }
      ]
    },
    {
      "cell_type": "code",
      "source": [
        "array[::2]"
      ],
      "metadata": {
        "colab": {
          "base_uri": "https://localhost:8080/"
        },
        "id": "dvF7MWznUreM",
        "outputId": "f147779a-2605-486f-f5c0-497d4f1e5141"
      },
      "execution_count": 58,
      "outputs": [
        {
          "output_type": "execute_result",
          "data": {
            "text/plain": [
              "array([1, 3, 5, 7, 9])"
            ]
          },
          "metadata": {},
          "execution_count": 58
        }
      ]
    },
    {
      "cell_type": "markdown",
      "source": [
        "## **NUMPY ARRAY: Múltiplas dimensões**"
      ],
      "metadata": {
        "id": "bvAC-3vvVdmX"
      }
    },
    {
      "cell_type": "code",
      "source": [
        "array = np.arange(1,13)\n",
        "array\n"
      ],
      "metadata": {
        "colab": {
          "base_uri": "https://localhost:8080/"
        },
        "id": "9Ol3hFiJVlgz",
        "outputId": "24f98dca-4400-492f-8d6e-e7020abf93c3"
      },
      "execution_count": 59,
      "outputs": [
        {
          "output_type": "execute_result",
          "data": {
            "text/plain": [
              "array([ 1,  2,  3,  4,  5,  6,  7,  8,  9, 10, 11, 12])"
            ]
          },
          "metadata": {},
          "execution_count": 59
        }
      ]
    },
    {
      "cell_type": "code",
      "source": [
        "array.shape"
      ],
      "metadata": {
        "colab": {
          "base_uri": "https://localhost:8080/"
        },
        "id": "sXDRA3VOVqD9",
        "outputId": "12178f52-8dd2-4010-db46-59d5f59a5abf"
      },
      "execution_count": 60,
      "outputs": [
        {
          "output_type": "execute_result",
          "data": {
            "text/plain": [
              "(12,)"
            ]
          },
          "metadata": {},
          "execution_count": 60
        }
      ]
    },
    {
      "cell_type": "markdown",
      "source": [
        "**REMODELANDO ARRAY PARA LINHAS E PARA COLUNAS**"
      ],
      "metadata": {
        "id": "S5-DpkfQVzqY"
      }
    },
    {
      "cell_type": "code",
      "source": [
        "remodelado = array.reshape(6,2)\n",
        "remodelado"
      ],
      "metadata": {
        "colab": {
          "base_uri": "https://localhost:8080/"
        },
        "id": "AvEJET9rWiA8",
        "outputId": "c4b5bf5b-1828-4fbf-e78a-ce1af97bb837"
      },
      "execution_count": 61,
      "outputs": [
        {
          "output_type": "execute_result",
          "data": {
            "text/plain": [
              "array([[ 1,  2],\n",
              "       [ 3,  4],\n",
              "       [ 5,  6],\n",
              "       [ 7,  8],\n",
              "       [ 9, 10],\n",
              "       [11, 12]])"
            ]
          },
          "metadata": {},
          "execution_count": 61
        }
      ]
    },
    {
      "cell_type": "code",
      "source": [
        "remodelado = array.reshape(2,6)\n",
        "remodelado"
      ],
      "metadata": {
        "colab": {
          "base_uri": "https://localhost:8080/"
        },
        "id": "NOjCmcshWsW6",
        "outputId": "b2fe7423-eca6-4e82-c98a-fa089c1fa7db"
      },
      "execution_count": 62,
      "outputs": [
        {
          "output_type": "execute_result",
          "data": {
            "text/plain": [
              "array([[ 1,  2,  3,  4,  5,  6],\n",
              "       [ 7,  8,  9, 10, 11, 12]])"
            ]
          },
          "metadata": {},
          "execution_count": 62
        }
      ]
    },
    {
      "cell_type": "code",
      "source": [
        "remodelado**2"
      ],
      "metadata": {
        "colab": {
          "base_uri": "https://localhost:8080/"
        },
        "id": "VFRpJ6oyWteZ",
        "outputId": "d2e32c6f-09ff-4d6f-c3fb-29a3cae48204"
      },
      "execution_count": 63,
      "outputs": [
        {
          "output_type": "execute_result",
          "data": {
            "text/plain": [
              "array([[  1,   4,   9,  16,  25,  36],\n",
              "       [ 49,  64,  81, 100, 121, 144]])"
            ]
          },
          "metadata": {},
          "execution_count": 63
        }
      ]
    },
    {
      "cell_type": "code",
      "source": [
        "remodelado+10"
      ],
      "metadata": {
        "colab": {
          "base_uri": "https://localhost:8080/"
        },
        "id": "c3fXlRxaWyy5",
        "outputId": "a276957c-cee4-4b87-9bd7-9d39454758cb"
      },
      "execution_count": 64,
      "outputs": [
        {
          "output_type": "execute_result",
          "data": {
            "text/plain": [
              "array([[11, 12, 13, 14, 15, 16],\n",
              "       [17, 18, 19, 20, 21, 22]])"
            ]
          },
          "metadata": {},
          "execution_count": 64
        }
      ]
    },
    {
      "cell_type": "code",
      "source": [
        "remodelado.shape"
      ],
      "metadata": {
        "colab": {
          "base_uri": "https://localhost:8080/"
        },
        "id": "HjtMPoBzW5Pw",
        "outputId": "8afd3d13-f25f-4201-ad2c-3bb09b6ae434"
      },
      "execution_count": 65,
      "outputs": [
        {
          "output_type": "execute_result",
          "data": {
            "text/plain": [
              "(2, 6)"
            ]
          },
          "metadata": {},
          "execution_count": 65
        }
      ]
    },
    {
      "cell_type": "markdown",
      "source": [
        "**DO CONJUNTO PARA LINHA COLUNA**"
      ],
      "metadata": {
        "id": "n21gcY5LW_8y"
      }
    },
    {
      "cell_type": "code",
      "source": [
        "remodelado[1][0][2]"
      ],
      "metadata": {
        "colab": {
          "base_uri": "https://localhost:8080/",
          "height": 171
        },
        "id": "rK-q3W7wXKC0",
        "outputId": "bff1aad0-631d-4585-9a4c-3d3af393a822"
      },
      "execution_count": 66,
      "outputs": [
        {
          "output_type": "error",
          "ename": "IndexError",
          "evalue": "ignored",
          "traceback": [
            "\u001b[0;31m---------------------------------------------------------------------------\u001b[0m",
            "\u001b[0;31mIndexError\u001b[0m                                Traceback (most recent call last)",
            "\u001b[0;32m<ipython-input-66-07646f58abf1>\u001b[0m in \u001b[0;36m<module>\u001b[0;34m\u001b[0m\n\u001b[0;32m----> 1\u001b[0;31m \u001b[0mremodelado\u001b[0m\u001b[0;34m[\u001b[0m\u001b[0;36m1\u001b[0m\u001b[0;34m]\u001b[0m\u001b[0;34m[\u001b[0m\u001b[0;36m0\u001b[0m\u001b[0;34m]\u001b[0m\u001b[0;34m[\u001b[0m\u001b[0;36m2\u001b[0m\u001b[0;34m]\u001b[0m\u001b[0;34m\u001b[0m\u001b[0;34m\u001b[0m\u001b[0m\n\u001b[0m",
            "\u001b[0;31mIndexError\u001b[0m: invalid index to scalar variable."
          ]
        }
      ]
    },
    {
      "cell_type": "markdown",
      "source": [
        "## **OPERAÇÕES COM MATRIZES E ARRAYS**"
      ],
      "metadata": {
        "id": "b6J-rzVMXRB2"
      }
    },
    {
      "cell_type": "code",
      "source": [
        "from numpy.random import randn"
      ],
      "metadata": {
        "id": "4K4K3ni8Xsvf"
      },
      "execution_count": 67,
      "outputs": []
    },
    {
      "cell_type": "markdown",
      "source": [
        "**SUPRIME NOTAÇÃO CIENTÍFICA E EXPRIME CERTA PRECISÃO**"
      ],
      "metadata": {
        "id": "Aw8s4bU4X15K"
      }
    },
    {
      "cell_type": "code",
      "source": [
        "np.set_printoptions(precision=2)"
      ],
      "metadata": {
        "id": "Dj28yndqXxzl"
      },
      "execution_count": 68,
      "outputs": []
    },
    {
      "cell_type": "code",
      "source": [
        "a = np.arange(3)\n",
        "a"
      ],
      "metadata": {
        "colab": {
          "base_uri": "https://localhost:8080/"
        },
        "id": "KUdIdwmDYChb",
        "outputId": "7a8ce75d-fb0e-4653-840f-21d531398771"
      },
      "execution_count": 69,
      "outputs": [
        {
          "output_type": "execute_result",
          "data": {
            "text/plain": [
              "array([0, 1, 2])"
            ]
          },
          "metadata": {},
          "execution_count": 69
        }
      ]
    },
    {
      "cell_type": "code",
      "source": [
        "aa = np.array([[2.,4.,6.], [1.,3.,5.], [10.,20.,30.]])\n",
        "aa"
      ],
      "metadata": {
        "colab": {
          "base_uri": "https://localhost:8080/"
        },
        "id": "j3mOMip2YETG",
        "outputId": "56092b77-8e67-420e-b8be-54c03da9af8a"
      },
      "execution_count": 70,
      "outputs": [
        {
          "output_type": "execute_result",
          "data": {
            "text/plain": [
              "array([[ 2.,  4.,  6.],\n",
              "       [ 1.,  3.,  5.],\n",
              "       [10., 20., 30.]])"
            ]
          },
          "metadata": {},
          "execution_count": 70
        }
      ]
    },
    {
      "cell_type": "code",
      "source": [
        "a * aa"
      ],
      "metadata": {
        "colab": {
          "base_uri": "https://localhost:8080/"
        },
        "id": "TY2_Mpq1YJHF",
        "outputId": "158317b5-1a79-483b-e2dc-d938eb3921df"
      },
      "execution_count": 71,
      "outputs": [
        {
          "output_type": "execute_result",
          "data": {
            "text/plain": [
              "array([[ 0.,  4., 12.],\n",
              "       [ 0.,  3., 10.],\n",
              "       [ 0., 20., 60.]])"
            ]
          },
          "metadata": {},
          "execution_count": 71
        }
      ]
    },
    {
      "cell_type": "markdown",
      "source": [
        "**MÚLTIPLA MATRIZES E PRODUTO ESCALAR**"
      ],
      "metadata": {
        "id": "NVt6vHjIYUE8"
      }
    },
    {
      "cell_type": "code",
      "source": [
        "bb = np.arange(9).reshape((3,3))\n",
        "bb"
      ],
      "metadata": {
        "colab": {
          "base_uri": "https://localhost:8080/"
        },
        "id": "a-ZVldQNYZCa",
        "outputId": "d240b4a4-d2a1-490e-f951-a53f48edcad1"
      },
      "execution_count": 72,
      "outputs": [
        {
          "output_type": "execute_result",
          "data": {
            "text/plain": [
              "array([[0, 1, 2],\n",
              "       [3, 4, 5],\n",
              "       [6, 7, 8]])"
            ]
          },
          "metadata": {},
          "execution_count": 72
        }
      ]
    },
    {
      "cell_type": "code",
      "source": [
        "aa * bb"
      ],
      "metadata": {
        "colab": {
          "base_uri": "https://localhost:8080/"
        },
        "id": "ssPwHApzYcTV",
        "outputId": "de885a24-2135-421f-d7a9-f70eee95c97c"
      },
      "execution_count": 73,
      "outputs": [
        {
          "output_type": "execute_result",
          "data": {
            "text/plain": [
              "array([[  0.,   4.,  12.],\n",
              "       [  3.,  12.,  25.],\n",
              "       [ 60., 140., 240.]])"
            ]
          },
          "metadata": {},
          "execution_count": 73
        }
      ]
    },
    {
      "cell_type": "code",
      "source": [
        "np.dot(aa,bb)"
      ],
      "metadata": {
        "colab": {
          "base_uri": "https://localhost:8080/"
        },
        "id": "havnT1RnYfbb",
        "outputId": "86f263d2-9bfb-4434-ede7-855658964e67"
      },
      "execution_count": 74,
      "outputs": [
        {
          "output_type": "execute_result",
          "data": {
            "text/plain": [
              "array([[ 48.,  60.,  72.],\n",
              "       [ 39.,  48.,  57.],\n",
              "       [240., 300., 360.]])"
            ]
          },
          "metadata": {},
          "execution_count": 74
        }
      ]
    },
    {
      "cell_type": "markdown",
      "source": [
        "## **NUMPY ARRAY E BOOLEAN**"
      ],
      "metadata": {
        "id": "P1Kv9ZIyYnlC"
      }
    },
    {
      "cell_type": "code",
      "source": [
        "array = np.arange(11)"
      ],
      "metadata": {
        "id": "YphrTjO2Yua9"
      },
      "execution_count": 75,
      "outputs": []
    },
    {
      "cell_type": "code",
      "source": [
        "condição = array > 5\n",
        "condição "
      ],
      "metadata": {
        "colab": {
          "base_uri": "https://localhost:8080/"
        },
        "id": "4z-voP98Y3zb",
        "outputId": "ae307b50-cab5-4cd4-f05e-f98c67f70d95"
      },
      "execution_count": 76,
      "outputs": [
        {
          "output_type": "execute_result",
          "data": {
            "text/plain": [
              "array([False, False, False, False, False, False,  True,  True,  True,\n",
              "        True,  True])"
            ]
          },
          "metadata": {},
          "execution_count": 76
        }
      ]
    },
    {
      "cell_type": "code",
      "source": [
        "cond2 = (array > 5) & (array < 9)\n",
        "cond2"
      ],
      "metadata": {
        "colab": {
          "base_uri": "https://localhost:8080/"
        },
        "id": "qDfXkYPSZDJL",
        "outputId": "4e2f739a-b3ab-4430-f1cd-4386a3f17f79"
      },
      "execution_count": 77,
      "outputs": [
        {
          "output_type": "execute_result",
          "data": {
            "text/plain": [
              "array([False, False, False, False, False, False,  True,  True,  True,\n",
              "       False, False])"
            ]
          },
          "metadata": {},
          "execution_count": 77
        }
      ]
    },
    {
      "cell_type": "code",
      "source": [
        "cond2 = np.logical_or( array > 5, array < 9)\n",
        "cond2"
      ],
      "metadata": {
        "colab": {
          "base_uri": "https://localhost:8080/"
        },
        "id": "H-JnmN1wZE8i",
        "outputId": "9f51c46e-c5f0-4dd1-d646-e8581812fb89"
      },
      "execution_count": 78,
      "outputs": [
        {
          "output_type": "execute_result",
          "data": {
            "text/plain": [
              "array([ True,  True,  True,  True,  True,  True,  True,  True,  True,\n",
              "        True,  True])"
            ]
          },
          "metadata": {},
          "execution_count": 78
        }
      ]
    },
    {
      "cell_type": "markdown",
      "source": [
        "## **NUMPY E NÚMEROS ALEATÓRIOS**"
      ],
      "metadata": {
        "id": "iGz2RiqoZIbx"
      }
    },
    {
      "cell_type": "code",
      "source": [
        "  #biblioteca que sincroniza resultados(toda vez que executamos a célula o resultado não muda)\n",
        "  #O randint()método retorna um elemento selecionado de número inteiro do intervalo especificado.\n",
        "  #O random implementa geradores de números pseudo-aleatórios para várias distribuições.\n"
      ],
      "metadata": {
        "id": "0f-YhfS2ZRTB"
      },
      "execution_count": 79,
      "outputs": []
    },
    {
      "cell_type": "code",
      "source": [
        "array = np.random.randint(1,15,10) #menor valor, maior valor, tamanho do array\n",
        "array"
      ],
      "metadata": {
        "colab": {
          "base_uri": "https://localhost:8080/"
        },
        "id": "WjAUMMmKZYAF",
        "outputId": "927edad2-1f2c-459f-e8fb-6e853749de67"
      },
      "execution_count": 80,
      "outputs": [
        {
          "output_type": "execute_result",
          "data": {
            "text/plain": [
              "array([ 5,  8, 14,  9, 14, 10,  6,  5, 14,  3])"
            ]
          },
          "metadata": {},
          "execution_count": 80
        }
      ]
    },
    {
      "cell_type": "code",
      "source": [
        "#valores normalmente distribuídos\n",
        "array = np.random.normal(10,2,2000) #média, desvio padrão, tamanho do array\n",
        "array"
      ],
      "metadata": {
        "colab": {
          "base_uri": "https://localhost:8080/"
        },
        "id": "EWg2AL0vZfS7",
        "outputId": "3ade9723-849b-4752-bff8-07c81ab5debb"
      },
      "execution_count": 81,
      "outputs": [
        {
          "output_type": "execute_result",
          "data": {
            "text/plain": [
              "array([11.67, 11.05, 11.14, ...,  9.63,  9.24, 13.04])"
            ]
          },
          "metadata": {},
          "execution_count": 81
        }
      ]
    },
    {
      "cell_type": "code",
      "source": [
        "len(array)"
      ],
      "metadata": {
        "colab": {
          "base_uri": "https://localhost:8080/"
        },
        "id": "VlRtYYs2Ziy6",
        "outputId": "24ad3e6b-20f5-48aa-bfd1-8e8b1d58dc0c"
      },
      "execution_count": 82,
      "outputs": [
        {
          "output_type": "execute_result",
          "data": {
            "text/plain": [
              "2000"
            ]
          },
          "metadata": {},
          "execution_count": 82
        }
      ]
    },
    {
      "cell_type": "code",
      "source": [
        "media = sum(array)/len(array)\n",
        "round(media)"
      ],
      "metadata": {
        "colab": {
          "base_uri": "https://localhost:8080/"
        },
        "id": "vjmg2RF_ZmYY",
        "outputId": "d80e1edf-19f0-4cf5-e4cf-6d1f2d663537"
      },
      "execution_count": 83,
      "outputs": [
        {
          "output_type": "execute_result",
          "data": {
            "text/plain": [
              "10"
            ]
          },
          "metadata": {},
          "execution_count": 83
        }
      ]
    },
    {
      "cell_type": "code",
      "source": [
        "#Plotando os dados\n",
        "import matplotlib.pyplot as plt\n",
        "plt.hist(array);"
      ],
      "metadata": {
        "colab": {
          "base_uri": "https://localhost:8080/",
          "height": 265
        },
        "id": "eviCqa53Zs6o",
        "outputId": "8b7ff0a3-d811-4c00-e005-9802e70d9ea2"
      },
      "execution_count": 87,
      "outputs": [
        {
          "output_type": "display_data",
          "data": {
            "text/plain": [
              "<Figure size 432x288 with 1 Axes>"
            ],
            "image/png": "[encoded data removed]"
          },
          "metadata": {
            "needs_background": "light"
          }
        }
      ]
    }
  ]
}