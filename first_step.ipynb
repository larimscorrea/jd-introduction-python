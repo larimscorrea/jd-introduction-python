{
  "nbformat": 4,
  "nbformat_minor": 0,
  "metadata": {
    "colab": {
      "provenance": [],
      "collapsed_sections": [],
      "authorship_tag": "ABX9TyPBtk73NoauBIno51w+m81t",
      "include_colab_link": true
    },
    "kernelspec": {
      "name": "python3",
      "display_name": "Python 3"
    },
    "language_info": {
      "name": "python"
    }
  },
  "cells": [
    {
      "cell_type": "markdown",
      "metadata": {
        "id": "view-in-github",
        "colab_type": "text"
      },
      "source": [
        "<a href=\"https://colab.research.google.com/github/larimscorrea/jd-introduction-python/blob/main/first_step.ipynb\" target=\"_parent\"><img src=\"https://colab.research.google.com/assets/colab-badge.svg\" alt=\"Open In Colab\"/></a>"
      ]
    },
    {
      "cell_type": "markdown",
      "source": [
        "### **Variáveis:**"
      ],
      "metadata": {
        "id": "DqORF92EihrL"
      }
    },
    {
      "cell_type": "code",
      "source": [
        "a = 3;"
      ],
      "metadata": {
        "id": "kufVsrvHkRxr"
      },
      "execution_count": null,
      "outputs": []
    },
    {
      "cell_type": "code",
      "source": [
        "b = \"Larissa\";\n",
        "b"
      ],
      "metadata": {
        "colab": {
          "base_uri": "https://localhost:8080/",
          "height": 35
        },
        "id": "CrqJDyQ41QFl",
        "outputId": "5bfe9a36-efc4-4d95-85fe-5a2beb79fe48"
      },
      "execution_count": null,
      "outputs": [
        {
          "output_type": "execute_result",
          "data": {
            "text/plain": [
              "'Larissa'"
            ],
            "application/vnd.google.colaboratory.intrinsic+json": {
              "type": "string"
            }
          },
          "metadata": {},
          "execution_count": 3
        }
      ]
    },
    {
      "cell_type": "code",
      "source": [
        "print(a);\n",
        "print(b);"
      ],
      "metadata": {
        "colab": {
          "base_uri": "https://localhost:8080/"
        },
        "id": "RxxcuzqT1Yqz",
        "outputId": "2737866d-404a-4cfc-b01a-33984866d2b2"
      },
      "execution_count": null,
      "outputs": [
        {
          "output_type": "stream",
          "name": "stdout",
          "text": [
            "3\n",
            "Larissa\n"
          ]
        }
      ]
    },
    {
      "cell_type": "markdown",
      "source": [
        "## **TEMPLATE STRING**"
      ],
      "metadata": {
        "id": "eCCUMzfi16Nw"
      }
    },
    {
      "cell_type": "code",
      "source": [
        "print('O valor de a é {}'.format(a))"
      ],
      "metadata": {
        "colab": {
          "base_uri": "https://localhost:8080/"
        },
        "id": "n7w-QfGO1em2",
        "outputId": "fc02ed07-2158-41a4-b080-9230678040ee"
      },
      "execution_count": null,
      "outputs": [
        {
          "output_type": "stream",
          "name": "stdout",
          "text": [
            "O valor de a é 3\n"
          ]
        }
      ]
    },
    {
      "cell_type": "code",
      "source": [
        "print('O valor de a é '+ str(a))"
      ],
      "metadata": {
        "colab": {
          "base_uri": "https://localhost:8080/"
        },
        "id": "8LHaqJT41wAB",
        "outputId": "3ced0e56-2240-4e78-db02-2748ce031a0f"
      },
      "execution_count": null,
      "outputs": [
        {
          "output_type": "stream",
          "name": "stdout",
          "text": [
            "O valor de a é: 3\n"
          ]
        }
      ]
    },
    {
      "cell_type": "code",
      "source": [
        "print(\"O valor de a é\",a)"
      ],
      "metadata": {
        "colab": {
          "base_uri": "https://localhost:8080/"
        },
        "id": "iXGISfe82JMd",
        "outputId": "756ab190-e382-48d3-f196-09b0234e60d1"
      },
      "execution_count": null,
      "outputs": [
        {
          "output_type": "stream",
          "name": "stdout",
          "text": [
            "O valor de a é 3\n"
          ]
        }
      ]
    },
    {
      "cell_type": "code",
      "source": [
        "c, d, e, f = 1, 2, 3, 4; \n",
        "print(e);"
      ],
      "metadata": {
        "colab": {
          "base_uri": "https://localhost:8080/"
        },
        "id": "fB_gpwdE2Vfa",
        "outputId": "48f0ad43-9b4f-4d12-91cf-7a7336f92f8d"
      },
      "execution_count": null,
      "outputs": [
        {
          "output_type": "stream",
          "name": "stdout",
          "text": [
            "3\n"
          ]
        }
      ]
    },
    {
      "cell_type": "markdown",
      "source": [
        "## **BOAS PRÁTICAS**"
      ],
      "metadata": {
        "id": "hAYYrXCN2cMC"
      }
    },
    {
      "cell_type": "code",
      "source": [
        "x = 3;\n",
        "y = 5; \n",
        "print(x)\n",
        "print(y)"
      ],
      "metadata": {
        "colab": {
          "base_uri": "https://localhost:8080/"
        },
        "id": "nOMqvYJl2ir-",
        "outputId": "6a8992b6-f6ff-4005-ac48-3c5e324ea7f3"
      },
      "execution_count": null,
      "outputs": [
        {
          "output_type": "stream",
          "name": "stdout",
          "text": [
            "3\n",
            "5\n"
          ]
        }
      ]
    },
    {
      "cell_type": "code",
      "source": [
        "w = 'A letra \"w\" está em aspas'\n",
        "print(w)"
      ],
      "metadata": {
        "colab": {
          "base_uri": "https://localhost:8080/"
        },
        "id": "6MhcVnNg3Ctk",
        "outputId": "d9a5741d-f665-4f83-b76c-3b6608e60220"
      },
      "execution_count": null,
      "outputs": [
        {
          "output_type": "stream",
          "name": "stdout",
          "text": [
            "A letra \"w\" está em aspas\n"
          ]
        }
      ]
    },
    {
      "cell_type": "markdown",
      "source": [
        "**Forma errada**"
      ],
      "metadata": {
        "id": "aGTZzfym3Qe7"
      }
    },
    {
      "cell_type": "code",
      "source": [
        "w = 'A letra 'w' está em aspas'\n",
        "print(w)"
      ],
      "metadata": {
        "colab": {
          "base_uri": "https://localhost:8080/",
          "height": 130
        },
        "id": "IC87WhH73ZZ6",
        "outputId": "424a4121-91f8-4381-9fcf-2ad7c2f33f11"
      },
      "execution_count": null,
      "outputs": [
        {
          "output_type": "error",
          "ename": "SyntaxError",
          "evalue": "ignored",
          "traceback": [
            "\u001b[0;36m  File \u001b[0;32m\"<ipython-input-12-360a611bb1a5>\"\u001b[0;36m, line \u001b[0;32m1\u001b[0m\n\u001b[0;31m    w = 'A letra 'w' está em aspas'\u001b[0m\n\u001b[0m                  ^\u001b[0m\n\u001b[0;31mSyntaxError\u001b[0m\u001b[0;31m:\u001b[0m invalid syntax\n"
          ]
        }
      ]
    },
    {
      "cell_type": "markdown",
      "source": [
        "**Nunca utilizar números no início da variável**"
      ],
      "metadata": {
        "id": "yHT_isNa3l_H"
      }
    },
    {
      "cell_type": "code",
      "source": [
        "4_nome_da_variavel = 6"
      ],
      "metadata": {
        "colab": {
          "base_uri": "https://localhost:8080/",
          "height": 130
        },
        "id": "FU8FkbN93q7M",
        "outputId": "32804d86-8657-42b6-c8d7-b60196b86bfd"
      },
      "execution_count": null,
      "outputs": [
        {
          "output_type": "error",
          "ename": "SyntaxError",
          "evalue": "ignored",
          "traceback": [
            "\u001b[0;36m  File \u001b[0;32m\"<ipython-input-13-ce2ee11386d6>\"\u001b[0;36m, line \u001b[0;32m1\u001b[0m\n\u001b[0;31m    4_nome_da_variavel = 6\u001b[0m\n\u001b[0m     ^\u001b[0m\n\u001b[0;31mSyntaxError\u001b[0m\u001b[0;31m:\u001b[0m invalid token\n"
          ]
        }
      ]
    },
    {
      "cell_type": "markdown",
      "source": [
        "### **TIPOS DE VARIÁVEIS**"
      ],
      "metadata": {
        "id": "ryrVZLbC3xUm"
      }
    },
    {
      "cell_type": "markdown",
      "source": [
        "**Int = número inteiro**"
      ],
      "metadata": {
        "id": "4KOYIReH4ZGR"
      }
    },
    {
      "cell_type": "code",
      "source": [
        "a = 3 \n",
        "type(a)"
      ],
      "metadata": {
        "colab": {
          "base_uri": "https://localhost:8080/"
        },
        "id": "hupGbzjs4KNU",
        "outputId": "7322c6ef-2c1a-46f6-9735-0bf299ffc4e9"
      },
      "execution_count": null,
      "outputs": [
        {
          "output_type": "execute_result",
          "data": {
            "text/plain": [
              "int"
            ]
          },
          "metadata": {},
          "execution_count": 14
        }
      ]
    },
    {
      "cell_type": "markdown",
      "source": [
        "**String = texto**"
      ],
      "metadata": {
        "id": "j_u2Q1zU4iAc"
      }
    },
    {
      "cell_type": "code",
      "source": [
        "b = 'eu sou a Larissa'\n",
        "type(b)"
      ],
      "metadata": {
        "colab": {
          "base_uri": "https://localhost:8080/"
        },
        "id": "_rLEK5MP4m_X",
        "outputId": "8fac8c55-cdeb-4063-8f4a-5f6e957091b0"
      },
      "execution_count": null,
      "outputs": [
        {
          "output_type": "execute_result",
          "data": {
            "text/plain": [
              "str"
            ]
          },
          "metadata": {},
          "execution_count": 15
        }
      ]
    },
    {
      "cell_type": "markdown",
      "source": [
        "**Float = números irracionais**"
      ],
      "metadata": {
        "id": "EGzE0Emi4weV"
      }
    },
    {
      "cell_type": "code",
      "source": [
        "c = 4.5\n",
        "type(c)"
      ],
      "metadata": {
        "colab": {
          "base_uri": "https://localhost:8080/"
        },
        "id": "YCZTA73-5OBc",
        "outputId": "d51ba5da-2b61-40ad-cdb6-722e579dfa0b"
      },
      "execution_count": null,
      "outputs": [
        {
          "output_type": "execute_result",
          "data": {
            "text/plain": [
              "float"
            ]
          },
          "metadata": {},
          "execution_count": 16
        }
      ]
    },
    {
      "cell_type": "markdown",
      "source": [
        "**Boolean = verdadeiro ou falso**"
      ],
      "metadata": {
        "id": "rE6pSlPq5UmH"
      }
    },
    {
      "cell_type": "code",
      "source": [
        "d = True\n",
        "type(d)"
      ],
      "metadata": {
        "colab": {
          "base_uri": "https://localhost:8080/"
        },
        "id": "36RyFyDi5h4h",
        "outputId": "b35ccf24-c3d2-4933-9de5-91f09305d7f6"
      },
      "execution_count": null,
      "outputs": [
        {
          "output_type": "execute_result",
          "data": {
            "text/plain": [
              "bool"
            ]
          },
          "metadata": {},
          "execution_count": 18
        }
      ]
    },
    {
      "cell_type": "markdown",
      "source": [
        "### **OPERAÇÕES COM VARIÁVEIS**"
      ],
      "metadata": {
        "id": "oX59Avjn5rCl"
      }
    },
    {
      "cell_type": "code",
      "source": [
        "a, b, c, d = 5, 3, 4, 8 \n",
        "a+b+c+d\n"
      ],
      "metadata": {
        "colab": {
          "base_uri": "https://localhost:8080/"
        },
        "id": "fz9kdSU157Sc",
        "outputId": "b717077d-da85-416a-8501-ff5955665cb8"
      },
      "execution_count": null,
      "outputs": [
        {
          "output_type": "execute_result",
          "data": {
            "text/plain": [
              "20"
            ]
          },
          "metadata": {},
          "execution_count": 21
        }
      ]
    },
    {
      "cell_type": "code",
      "source": [
        "b-a"
      ],
      "metadata": {
        "colab": {
          "base_uri": "https://localhost:8080/"
        },
        "id": "JYYBw7NX6NIX",
        "outputId": "c5399471-dc61-4adb-dfbb-32b18718e2a0"
      },
      "execution_count": null,
      "outputs": [
        {
          "output_type": "execute_result",
          "data": {
            "text/plain": [
              "-2"
            ]
          },
          "metadata": {},
          "execution_count": 22
        }
      ]
    },
    {
      "cell_type": "code",
      "source": [
        "c = '4'\n",
        "type(c)"
      ],
      "metadata": {
        "colab": {
          "base_uri": "https://localhost:8080/"
        },
        "id": "bDruPgwY6e4i",
        "outputId": "db0bc66c-9534-449d-eb87-5c774e2f748f"
      },
      "execution_count": null,
      "outputs": [
        {
          "output_type": "execute_result",
          "data": {
            "text/plain": [
              "str"
            ]
          },
          "metadata": {},
          "execution_count": 25
        }
      ]
    },
    {
      "cell_type": "markdown",
      "source": [
        "**Erro:**"
      ],
      "metadata": {
        "id": "veiuSdXi6Ym8"
      }
    },
    {
      "cell_type": "code",
      "source": [
        "a + c"
      ],
      "metadata": {
        "colab": {
          "base_uri": "https://localhost:8080/",
          "height": 165
        },
        "id": "yNYOdsiU6bNY",
        "outputId": "ee7512a6-11c0-4285-ddc9-7c1c6599169e"
      },
      "execution_count": null,
      "outputs": [
        {
          "output_type": "error",
          "ename": "TypeError",
          "evalue": "ignored",
          "traceback": [
            "\u001b[0;31m---------------------------------------------------------------------------\u001b[0m",
            "\u001b[0;31mTypeError\u001b[0m                                 Traceback (most recent call last)",
            "\u001b[0;32m<ipython-input-26-e81e582b6fa9>\u001b[0m in \u001b[0;36m<module>\u001b[0;34m\u001b[0m\n\u001b[0;32m----> 1\u001b[0;31m \u001b[0ma\u001b[0m \u001b[0;34m+\u001b[0m \u001b[0mc\u001b[0m\u001b[0;34m\u001b[0m\u001b[0;34m\u001b[0m\u001b[0m\n\u001b[0m",
            "\u001b[0;31mTypeError\u001b[0m: unsupported operand type(s) for +: 'int' and 'str'"
          ]
        }
      ]
    },
    {
      "cell_type": "code",
      "source": [
        "d = '5'\n",
        "type(d)"
      ],
      "metadata": {
        "colab": {
          "base_uri": "https://localhost:8080/"
        },
        "id": "w052Rfgt6sMX",
        "outputId": "9feafebe-4a2e-471d-bc4c-37d698747745"
      },
      "execution_count": null,
      "outputs": [
        {
          "output_type": "execute_result",
          "data": {
            "text/plain": [
              "str"
            ]
          },
          "metadata": {},
          "execution_count": 27
        }
      ]
    },
    {
      "cell_type": "code",
      "source": [
        "c + d"
      ],
      "metadata": {
        "colab": {
          "base_uri": "https://localhost:8080/",
          "height": 35
        },
        "id": "r00zgFB86xrA",
        "outputId": "c7f673d1-3218-4023-9bf0-523b98d2ef9f"
      },
      "execution_count": null,
      "outputs": [
        {
          "output_type": "execute_result",
          "data": {
            "text/plain": [
              "'45'"
            ],
            "application/vnd.google.colaboratory.intrinsic+json": {
              "type": "string"
            }
          },
          "metadata": {},
          "execution_count": 28
        }
      ]
    },
    {
      "cell_type": "markdown",
      "source": [
        "### **OPERADORES MATEMÁTICOS**"
      ],
      "metadata": {
        "id": "pjwhK2zk-Dge"
      }
    },
    {
      "cell_type": "markdown",
      "source": [
        "**OPERADORES ARITMÉTICOS**"
      ],
      "metadata": {
        "id": "ZpMCSOiNm4s3"
      }
    },
    {
      "cell_type": "markdown",
      "source": [
        "**Soma**"
      ],
      "metadata": {
        "id": "mWTU9W78liR-"
      }
    },
    {
      "cell_type": "code",
      "source": [
        "a, b, c, d = 1, 2, 3, 4\n",
        "a+b+c+d"
      ],
      "metadata": {
        "id": "r5wPsAifll6X"
      },
      "execution_count": null,
      "outputs": []
    },
    {
      "cell_type": "markdown",
      "source": [
        "**Subtração**"
      ],
      "metadata": {
        "id": "Z_NDWzeBly6F"
      }
    },
    {
      "cell_type": "code",
      "source": [
        "d = 10 \n",
        "c = 3\n",
        "d-c"
      ],
      "metadata": {
        "colab": {
          "base_uri": "https://localhost:8080/"
        },
        "id": "QJWxXdO8l2FD",
        "outputId": "61923d42-d496-4128-c2b9-1747d670ddd8"
      },
      "execution_count": null,
      "outputs": [
        {
          "output_type": "execute_result",
          "data": {
            "text/plain": [
              "7"
            ]
          },
          "metadata": {},
          "execution_count": 7
        }
      ]
    },
    {
      "cell_type": "markdown",
      "source": [
        "**Multiplicação**"
      ],
      "metadata": {
        "id": "t3r7JnKwl72y"
      }
    },
    {
      "cell_type": "code",
      "source": [
        "13*1"
      ],
      "metadata": {
        "colab": {
          "base_uri": "https://localhost:8080/"
        },
        "id": "RUDVU649mAFF",
        "outputId": "24d8392d-8334-41a9-9bbb-748291c5b9fe"
      },
      "execution_count": null,
      "outputs": [
        {
          "output_type": "execute_result",
          "data": {
            "text/plain": [
              "13"
            ]
          },
          "metadata": {},
          "execution_count": 8
        }
      ]
    },
    {
      "cell_type": "markdown",
      "source": [
        "**Divisão**"
      ],
      "metadata": {
        "id": "kz19h_VEmHF6"
      }
    },
    {
      "cell_type": "code",
      "source": [
        "10/2"
      ],
      "metadata": {
        "colab": {
          "base_uri": "https://localhost:8080/"
        },
        "id": "wylU-Kg-mKqQ",
        "outputId": "dcdfa50b-c0f8-40b9-ccad-24fc74a1ac11"
      },
      "execution_count": null,
      "outputs": [
        {
          "output_type": "execute_result",
          "data": {
            "text/plain": [
              "5.0"
            ]
          },
          "metadata": {},
          "execution_count": 9
        }
      ]
    },
    {
      "cell_type": "markdown",
      "source": [
        "**Exponenciação**"
      ],
      "metadata": {
        "id": "dnAYBLtYmNkX"
      }
    },
    {
      "cell_type": "code",
      "source": [
        "3**3 "
      ],
      "metadata": {
        "colab": {
          "base_uri": "https://localhost:8080/"
        },
        "id": "ul_VLBoqmSWd",
        "outputId": "550b061e-82cd-40ea-e847-5cc1b1a2d02c"
      },
      "execution_count": null,
      "outputs": [
        {
          "output_type": "execute_result",
          "data": {
            "text/plain": [
              "27"
            ]
          },
          "metadata": {},
          "execution_count": 10
        }
      ]
    },
    {
      "cell_type": "markdown",
      "source": [
        "**Resto**"
      ],
      "metadata": {
        "id": "8eohAHX0mWpw"
      }
    },
    {
      "cell_type": "markdown",
      "source": [
        "O resto é o **valor que sobra da divisão para que o quociente permaneça um inteiro**. \n",
        "O resto da divisão inteira pode ser utilizado, por exemplo, para determinar se um número é par ou ímpar: se o resto da divisão inteira por 2 for 0,\n",
        "então o número é par, ou ímpar caso contrário."
      ],
      "metadata": {
        "id": "Cq_OQP3hmbjo"
      }
    },
    {
      "cell_type": "code",
      "source": [
        "1000 % 3"
      ],
      "metadata": {
        "id": "mQDndRgZmmDd"
      },
      "execution_count": null,
      "outputs": []
    },
    {
      "cell_type": "markdown",
      "source": [
        "**OPERADORES LÓGICOS**"
      ],
      "metadata": {
        "id": "TNPD8C8JnFMP"
      }
    },
    {
      "cell_type": "code",
      "source": [
        "dois = 2\n",
        "print(dois)"
      ],
      "metadata": {
        "colab": {
          "base_uri": "https://localhost:8080/"
        },
        "id": "m5ek5SC1nLHZ",
        "outputId": "c3c79744-68aa-4a04-dcb3-d200d8cca9b8"
      },
      "execution_count": null,
      "outputs": [
        {
          "output_type": "stream",
          "name": "stdout",
          "text": [
            "2\n"
          ]
        }
      ]
    },
    {
      "cell_type": "code",
      "source": [],
      "metadata": {
        "id": "NCbxQieNo-a1"
      },
      "execution_count": null,
      "outputs": []
    },
    {
      "cell_type": "code",
      "source": [],
      "metadata": {
        "id": "1Vs0cLsZpAa1"
      },
      "execution_count": null,
      "outputs": []
    },
    {
      "cell_type": "markdown",
      "source": [
        "## **MÉTODOS**"
      ],
      "metadata": {
        "id": "L0ffznctoy-n"
      }
    },
    {
      "cell_type": "code",
      "source": [],
      "metadata": {
        "id": "lai7yEstpBUt"
      },
      "execution_count": null,
      "outputs": []
    }
  ]
}