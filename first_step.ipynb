{
  "nbformat": 4,
  "nbformat_minor": 0,
  "metadata": {
    "colab": {
      "provenance": [],
      "authorship_tag": "ABX9TyOe2OwMui20WlZMI/gQMTVs",
      "include_colab_link": true
    },
    "kernelspec": {
      "name": "python3",
      "display_name": "Python 3"
    },
    "language_info": {
      "name": "python"
    }
  },
  "cells": [
    {
      "cell_type": "markdown",
      "metadata": {
        "id": "view-in-github",
        "colab_type": "text"
      },
      "source": [
        "<a href=\"https://colab.research.google.com/github/larimscorrea/jd-introduction-python/blob/main/first_step.ipynb\" target=\"_parent\"><img src=\"https://colab.research.google.com/assets/colab-badge.svg\" alt=\"Open In Colab\"/></a>"
      ]
    },
    {
      "cell_type": "markdown",
      "source": [
        "### **Variáveis:**"
      ],
      "metadata": {
        "id": "DqORF92EihrL"
      }
    },
    {
      "cell_type": "code",
      "source": [
        "a = 3;"
      ],
      "metadata": {
        "id": "kufVsrvHkRxr"
      },
      "execution_count": null,
      "outputs": []
    },
    {
      "cell_type": "code",
      "source": [
        "b = \"Larissa\";\n",
        "b"
      ],
      "metadata": {
        "colab": {
          "base_uri": "https://localhost:8080/",
          "height": 35
        },
        "id": "CrqJDyQ41QFl",
        "outputId": "5bfe9a36-efc4-4d95-85fe-5a2beb79fe48"
      },
      "execution_count": null,
      "outputs": [
        {
          "output_type": "execute_result",
          "data": {
            "text/plain": [
              "'Larissa'"
            ],
            "application/vnd.google.colaboratory.intrinsic+json": {
              "type": "string"
            }
          },
          "metadata": {},
          "execution_count": 3
        }
      ]
    },
    {
      "cell_type": "code",
      "source": [
        "print(a);\n",
        "print(b);"
      ],
      "metadata": {
        "colab": {
          "base_uri": "https://localhost:8080/"
        },
        "id": "RxxcuzqT1Yqz",
        "outputId": "2737866d-404a-4cfc-b01a-33984866d2b2"
      },
      "execution_count": null,
      "outputs": [
        {
          "output_type": "stream",
          "name": "stdout",
          "text": [
            "3\n",
            "Larissa\n"
          ]
        }
      ]
    },
    {
      "cell_type": "markdown",
      "source": [
        "## **TEMPLATE STRING**"
      ],
      "metadata": {
        "id": "eCCUMzfi16Nw"
      }
    },
    {
      "cell_type": "code",
      "source": [
        "print('O valor de a é {}'.format(a))"
      ],
      "metadata": {
        "colab": {
          "base_uri": "https://localhost:8080/"
        },
        "id": "n7w-QfGO1em2",
        "outputId": "fc02ed07-2158-41a4-b080-9230678040ee"
      },
      "execution_count": null,
      "outputs": [
        {
          "output_type": "stream",
          "name": "stdout",
          "text": [
            "O valor de a é 3\n"
          ]
        }
      ]
    },
    {
      "cell_type": "code",
      "source": [
        "print('O valor de a é '+ str(a))"
      ],
      "metadata": {
        "colab": {
          "base_uri": "https://localhost:8080/"
        },
        "id": "8LHaqJT41wAB",
        "outputId": "3ced0e56-2240-4e78-db02-2748ce031a0f"
      },
      "execution_count": null,
      "outputs": [
        {
          "output_type": "stream",
          "name": "stdout",
          "text": [
            "O valor de a é: 3\n"
          ]
        }
      ]
    },
    {
      "cell_type": "code",
      "source": [
        "print(\"O valor de a é\",a)"
      ],
      "metadata": {
        "colab": {
          "base_uri": "https://localhost:8080/"
        },
        "id": "iXGISfe82JMd",
        "outputId": "756ab190-e382-48d3-f196-09b0234e60d1"
      },
      "execution_count": null,
      "outputs": [
        {
          "output_type": "stream",
          "name": "stdout",
          "text": [
            "O valor de a é 3\n"
          ]
        }
      ]
    },
    {
      "cell_type": "code",
      "source": [
        "c, d, e, f = 1, 2, 3, 4; \n",
        "print(e);"
      ],
      "metadata": {
        "colab": {
          "base_uri": "https://localhost:8080/"
        },
        "id": "fB_gpwdE2Vfa",
        "outputId": "48f0ad43-9b4f-4d12-91cf-7a7336f92f8d"
      },
      "execution_count": null,
      "outputs": [
        {
          "output_type": "stream",
          "name": "stdout",
          "text": [
            "3\n"
          ]
        }
      ]
    },
    {
      "cell_type": "markdown",
      "source": [
        "## **BOAS PRÁTICAS**"
      ],
      "metadata": {
        "id": "hAYYrXCN2cMC"
      }
    },
    {
      "cell_type": "code",
      "source": [
        "x = 3;\n",
        "y = 5; \n",
        "print(x)\n",
        "print(y)"
      ],
      "metadata": {
        "colab": {
          "base_uri": "https://localhost:8080/"
        },
        "id": "nOMqvYJl2ir-",
        "outputId": "6a8992b6-f6ff-4005-ac48-3c5e324ea7f3"
      },
      "execution_count": null,
      "outputs": [
        {
          "output_type": "stream",
          "name": "stdout",
          "text": [
            "3\n",
            "5\n"
          ]
        }
      ]
    },
    {
      "cell_type": "code",
      "source": [
        "w = 'A letra \"w\" está em aspas'\n",
        "print(w)"
      ],
      "metadata": {
        "colab": {
          "base_uri": "https://localhost:8080/"
        },
        "id": "6MhcVnNg3Ctk",
        "outputId": "d9a5741d-f665-4f83-b76c-3b6608e60220"
      },
      "execution_count": null,
      "outputs": [
        {
          "output_type": "stream",
          "name": "stdout",
          "text": [
            "A letra \"w\" está em aspas\n"
          ]
        }
      ]
    },
    {
      "cell_type": "markdown",
      "source": [
        "**Forma errada**"
      ],
      "metadata": {
        "id": "aGTZzfym3Qe7"
      }
    },
    {
      "cell_type": "code",
      "source": [
        "w = 'A letra 'w' está em aspas'\n",
        "print(w)"
      ],
      "metadata": {
        "colab": {
          "base_uri": "https://localhost:8080/",
          "height": 130
        },
        "id": "IC87WhH73ZZ6",
        "outputId": "424a4121-91f8-4381-9fcf-2ad7c2f33f11"
      },
      "execution_count": null,
      "outputs": [
        {
          "output_type": "error",
          "ename": "SyntaxError",
          "evalue": "ignored",
          "traceback": [
            "\u001b[0;36m  File \u001b[0;32m\"<ipython-input-12-360a611bb1a5>\"\u001b[0;36m, line \u001b[0;32m1\u001b[0m\n\u001b[0;31m    w = 'A letra 'w' está em aspas'\u001b[0m\n\u001b[0m                  ^\u001b[0m\n\u001b[0;31mSyntaxError\u001b[0m\u001b[0;31m:\u001b[0m invalid syntax\n"
          ]
        }
      ]
    },
    {
      "cell_type": "markdown",
      "source": [
        "**Nunca utilizar números no início da variável**"
      ],
      "metadata": {
        "id": "yHT_isNa3l_H"
      }
    },
    {
      "cell_type": "code",
      "source": [
        "4_nome_da_variavel = 6"
      ],
      "metadata": {
        "colab": {
          "base_uri": "https://localhost:8080/",
          "height": 130
        },
        "id": "FU8FkbN93q7M",
        "outputId": "32804d86-8657-42b6-c8d7-b60196b86bfd"
      },
      "execution_count": null,
      "outputs": [
        {
          "output_type": "error",
          "ename": "SyntaxError",
          "evalue": "ignored",
          "traceback": [
            "\u001b[0;36m  File \u001b[0;32m\"<ipython-input-13-ce2ee11386d6>\"\u001b[0;36m, line \u001b[0;32m1\u001b[0m\n\u001b[0;31m    4_nome_da_variavel = 6\u001b[0m\n\u001b[0m     ^\u001b[0m\n\u001b[0;31mSyntaxError\u001b[0m\u001b[0;31m:\u001b[0m invalid token\n"
          ]
        }
      ]
    },
    {
      "cell_type": "markdown",
      "source": [
        "### **TIPOS DE VARIÁVEIS**"
      ],
      "metadata": {
        "id": "ryrVZLbC3xUm"
      }
    },
    {
      "cell_type": "markdown",
      "source": [
        "**Int = número inteiro**"
      ],
      "metadata": {
        "id": "4KOYIReH4ZGR"
      }
    },
    {
      "cell_type": "code",
      "source": [
        "a = 3 \n",
        "type(a)"
      ],
      "metadata": {
        "colab": {
          "base_uri": "https://localhost:8080/"
        },
        "id": "hupGbzjs4KNU",
        "outputId": "7322c6ef-2c1a-46f6-9735-0bf299ffc4e9"
      },
      "execution_count": null,
      "outputs": [
        {
          "output_type": "execute_result",
          "data": {
            "text/plain": [
              "int"
            ]
          },
          "metadata": {},
          "execution_count": 14
        }
      ]
    },
    {
      "cell_type": "markdown",
      "source": [
        "**String = texto**"
      ],
      "metadata": {
        "id": "j_u2Q1zU4iAc"
      }
    },
    {
      "cell_type": "code",
      "source": [
        "b = 'eu sou a Larissa'\n",
        "type(b)"
      ],
      "metadata": {
        "colab": {
          "base_uri": "https://localhost:8080/"
        },
        "id": "_rLEK5MP4m_X",
        "outputId": "8fac8c55-cdeb-4063-8f4a-5f6e957091b0"
      },
      "execution_count": null,
      "outputs": [
        {
          "output_type": "execute_result",
          "data": {
            "text/plain": [
              "str"
            ]
          },
          "metadata": {},
          "execution_count": 15
        }
      ]
    },
    {
      "cell_type": "markdown",
      "source": [
        "**Float = números irracionais**"
      ],
      "metadata": {
        "id": "EGzE0Emi4weV"
      }
    },
    {
      "cell_type": "code",
      "source": [
        "c = 4.5\n",
        "type(c)"
      ],
      "metadata": {
        "colab": {
          "base_uri": "https://localhost:8080/"
        },
        "id": "YCZTA73-5OBc",
        "outputId": "d51ba5da-2b61-40ad-cdb6-722e579dfa0b"
      },
      "execution_count": null,
      "outputs": [
        {
          "output_type": "execute_result",
          "data": {
            "text/plain": [
              "float"
            ]
          },
          "metadata": {},
          "execution_count": 16
        }
      ]
    },
    {
      "cell_type": "markdown",
      "source": [
        "**Boolean = verdadeiro ou falso**"
      ],
      "metadata": {
        "id": "rE6pSlPq5UmH"
      }
    },
    {
      "cell_type": "code",
      "source": [
        "d = True\n",
        "type(d)"
      ],
      "metadata": {
        "colab": {
          "base_uri": "https://localhost:8080/"
        },
        "id": "36RyFyDi5h4h",
        "outputId": "b35ccf24-c3d2-4933-9de5-91f09305d7f6"
      },
      "execution_count": null,
      "outputs": [
        {
          "output_type": "execute_result",
          "data": {
            "text/plain": [
              "bool"
            ]
          },
          "metadata": {},
          "execution_count": 18
        }
      ]
    },
    {
      "cell_type": "markdown",
      "source": [
        "### **OPERAÇÕES COM VARIÁVEIS**"
      ],
      "metadata": {
        "id": "oX59Avjn5rCl"
      }
    },
    {
      "cell_type": "code",
      "source": [
        "a, b, c, d = 5, 3, 4, 8 \n",
        "a+b+c+d\n"
      ],
      "metadata": {
        "colab": {
          "base_uri": "https://localhost:8080/"
        },
        "id": "fz9kdSU157Sc",
        "outputId": "b717077d-da85-416a-8501-ff5955665cb8"
      },
      "execution_count": null,
      "outputs": [
        {
          "output_type": "execute_result",
          "data": {
            "text/plain": [
              "20"
            ]
          },
          "metadata": {},
          "execution_count": 21
        }
      ]
    },
    {
      "cell_type": "code",
      "source": [
        "b-a"
      ],
      "metadata": {
        "colab": {
          "base_uri": "https://localhost:8080/"
        },
        "id": "JYYBw7NX6NIX",
        "outputId": "c5399471-dc61-4adb-dfbb-32b18718e2a0"
      },
      "execution_count": null,
      "outputs": [
        {
          "output_type": "execute_result",
          "data": {
            "text/plain": [
              "-2"
            ]
          },
          "metadata": {},
          "execution_count": 22
        }
      ]
    },
    {
      "cell_type": "code",
      "source": [
        "c = '4'\n",
        "type(c)"
      ],
      "metadata": {
        "colab": {
          "base_uri": "https://localhost:8080/"
        },
        "id": "bDruPgwY6e4i",
        "outputId": "db0bc66c-9534-449d-eb87-5c774e2f748f"
      },
      "execution_count": null,
      "outputs": [
        {
          "output_type": "execute_result",
          "data": {
            "text/plain": [
              "str"
            ]
          },
          "metadata": {},
          "execution_count": 25
        }
      ]
    },
    {
      "cell_type": "markdown",
      "source": [
        "**Erro:**"
      ],
      "metadata": {
        "id": "veiuSdXi6Ym8"
      }
    },
    {
      "cell_type": "code",
      "source": [
        "a + c"
      ],
      "metadata": {
        "colab": {
          "base_uri": "https://localhost:8080/",
          "height": 165
        },
        "id": "yNYOdsiU6bNY",
        "outputId": "ee7512a6-11c0-4285-ddc9-7c1c6599169e"
      },
      "execution_count": null,
      "outputs": [
        {
          "output_type": "error",
          "ename": "TypeError",
          "evalue": "ignored",
          "traceback": [
            "\u001b[0;31m---------------------------------------------------------------------------\u001b[0m",
            "\u001b[0;31mTypeError\u001b[0m                                 Traceback (most recent call last)",
            "\u001b[0;32m<ipython-input-26-e81e582b6fa9>\u001b[0m in \u001b[0;36m<module>\u001b[0;34m\u001b[0m\n\u001b[0;32m----> 1\u001b[0;31m \u001b[0ma\u001b[0m \u001b[0;34m+\u001b[0m \u001b[0mc\u001b[0m\u001b[0;34m\u001b[0m\u001b[0;34m\u001b[0m\u001b[0m\n\u001b[0m",
            "\u001b[0;31mTypeError\u001b[0m: unsupported operand type(s) for +: 'int' and 'str'"
          ]
        }
      ]
    },
    {
      "cell_type": "code",
      "source": [
        "d = '5'\n",
        "type(d)"
      ],
      "metadata": {
        "colab": {
          "base_uri": "https://localhost:8080/"
        },
        "id": "w052Rfgt6sMX",
        "outputId": "9feafebe-4a2e-471d-bc4c-37d698747745"
      },
      "execution_count": null,
      "outputs": [
        {
          "output_type": "execute_result",
          "data": {
            "text/plain": [
              "str"
            ]
          },
          "metadata": {},
          "execution_count": 27
        }
      ]
    },
    {
      "cell_type": "code",
      "source": [
        "c + d"
      ],
      "metadata": {
        "colab": {
          "base_uri": "https://localhost:8080/",
          "height": 35
        },
        "id": "r00zgFB86xrA",
        "outputId": "c7f673d1-3218-4023-9bf0-523b98d2ef9f"
      },
      "execution_count": null,
      "outputs": [
        {
          "output_type": "execute_result",
          "data": {
            "text/plain": [
              "'45'"
            ],
            "application/vnd.google.colaboratory.intrinsic+json": {
              "type": "string"
            }
          },
          "metadata": {},
          "execution_count": 28
        }
      ]
    },
    {
      "cell_type": "markdown",
      "source": [
        "### **OPERADORES MATEMÁTICOS**"
      ],
      "metadata": {
        "id": "pjwhK2zk-Dge"
      }
    },
    {
      "cell_type": "markdown",
      "source": [
        "**OPERADORES ARITMÉTICOS**"
      ],
      "metadata": {
        "id": "ZpMCSOiNm4s3"
      }
    },
    {
      "cell_type": "markdown",
      "source": [
        "**Soma**"
      ],
      "metadata": {
        "id": "mWTU9W78liR-"
      }
    },
    {
      "cell_type": "code",
      "source": [
        "a, b, c, d = 1, 2, 3, 4\n",
        "a+b+c+d"
      ],
      "metadata": {
        "id": "r5wPsAifll6X"
      },
      "execution_count": null,
      "outputs": []
    },
    {
      "cell_type": "markdown",
      "source": [
        "**Subtração**"
      ],
      "metadata": {
        "id": "Z_NDWzeBly6F"
      }
    },
    {
      "cell_type": "code",
      "source": [
        "d = 10 \n",
        "c = 3\n",
        "d-c"
      ],
      "metadata": {
        "colab": {
          "base_uri": "https://localhost:8080/"
        },
        "id": "QJWxXdO8l2FD",
        "outputId": "61923d42-d496-4128-c2b9-1747d670ddd8"
      },
      "execution_count": null,
      "outputs": [
        {
          "output_type": "execute_result",
          "data": {
            "text/plain": [
              "7"
            ]
          },
          "metadata": {},
          "execution_count": 7
        }
      ]
    },
    {
      "cell_type": "markdown",
      "source": [
        "**Multiplicação**"
      ],
      "metadata": {
        "id": "t3r7JnKwl72y"
      }
    },
    {
      "cell_type": "code",
      "source": [
        "13*1"
      ],
      "metadata": {
        "colab": {
          "base_uri": "https://localhost:8080/"
        },
        "id": "RUDVU649mAFF",
        "outputId": "24d8392d-8334-41a9-9bbb-748291c5b9fe"
      },
      "execution_count": null,
      "outputs": [
        {
          "output_type": "execute_result",
          "data": {
            "text/plain": [
              "13"
            ]
          },
          "metadata": {},
          "execution_count": 8
        }
      ]
    },
    {
      "cell_type": "markdown",
      "source": [
        "**Divisão**"
      ],
      "metadata": {
        "id": "kz19h_VEmHF6"
      }
    },
    {
      "cell_type": "code",
      "source": [
        "10/2"
      ],
      "metadata": {
        "colab": {
          "base_uri": "https://localhost:8080/"
        },
        "id": "wylU-Kg-mKqQ",
        "outputId": "dcdfa50b-c0f8-40b9-ccad-24fc74a1ac11"
      },
      "execution_count": null,
      "outputs": [
        {
          "output_type": "execute_result",
          "data": {
            "text/plain": [
              "5.0"
            ]
          },
          "metadata": {},
          "execution_count": 9
        }
      ]
    },
    {
      "cell_type": "markdown",
      "source": [
        "**Exponenciação**"
      ],
      "metadata": {
        "id": "dnAYBLtYmNkX"
      }
    },
    {
      "cell_type": "code",
      "source": [
        "3**3 "
      ],
      "metadata": {
        "colab": {
          "base_uri": "https://localhost:8080/"
        },
        "id": "ul_VLBoqmSWd",
        "outputId": "550b061e-82cd-40ea-e847-5cc1b1a2d02c"
      },
      "execution_count": null,
      "outputs": [
        {
          "output_type": "execute_result",
          "data": {
            "text/plain": [
              "27"
            ]
          },
          "metadata": {},
          "execution_count": 10
        }
      ]
    },
    {
      "cell_type": "markdown",
      "source": [
        "**Resto**"
      ],
      "metadata": {
        "id": "8eohAHX0mWpw"
      }
    },
    {
      "cell_type": "markdown",
      "source": [
        "O resto é o **valor que sobra da divisão para que o quociente permaneça um inteiro**. \n",
        "O resto da divisão inteira pode ser utilizado, por exemplo, para determinar se um número é par ou ímpar: se o resto da divisão inteira por 2 for 0,\n",
        "então o número é par, ou ímpar caso contrário."
      ],
      "metadata": {
        "id": "Cq_OQP3hmbjo"
      }
    },
    {
      "cell_type": "code",
      "source": [
        "1000 % 3"
      ],
      "metadata": {
        "id": "mQDndRgZmmDd"
      },
      "execution_count": null,
      "outputs": []
    },
    {
      "cell_type": "markdown",
      "source": [
        "**OPERADORES LÓGICOS**"
      ],
      "metadata": {
        "id": "TNPD8C8JnFMP"
      }
    },
    {
      "cell_type": "code",
      "source": [
        "dois = 2\n",
        "print(dois)"
      ],
      "metadata": {
        "colab": {
          "base_uri": "https://localhost:8080/"
        },
        "id": "m5ek5SC1nLHZ",
        "outputId": "969855cd-f926-4b9c-edd6-38288d2f9516"
      },
      "execution_count": null,
      "outputs": [
        {
          "output_type": "stream",
          "name": "stdout",
          "text": [
            "2\n"
          ]
        }
      ]
    },
    {
      "cell_type": "code",
      "source": [
        "dois == 2"
      ],
      "metadata": {
        "id": "NCbxQieNo-a1",
        "colab": {
          "base_uri": "https://localhost:8080/"
        },
        "outputId": "42bde8b2-a405-4622-8a0e-a8694c28c6ba"
      },
      "execution_count": null,
      "outputs": [
        {
          "output_type": "execute_result",
          "data": {
            "text/plain": [
              "True"
            ]
          },
          "metadata": {},
          "execution_count": 3
        }
      ]
    },
    {
      "cell_type": "code",
      "source": [
        "dois != 3"
      ],
      "metadata": {
        "id": "1Vs0cLsZpAa1",
        "colab": {
          "base_uri": "https://localhost:8080/"
        },
        "outputId": "72c3246c-e49b-4f4f-97f0-d77b803cf7d4"
      },
      "execution_count": null,
      "outputs": [
        {
          "output_type": "execute_result",
          "data": {
            "text/plain": [
              "True"
            ]
          },
          "metadata": {},
          "execution_count": 4
        }
      ]
    },
    {
      "cell_type": "code",
      "source": [
        "dois < 1"
      ],
      "metadata": {
        "colab": {
          "base_uri": "https://localhost:8080/"
        },
        "id": "yOHpGXDVXnLk",
        "outputId": "147cc830-9efb-481b-aba1-8759ebc37550"
      },
      "execution_count": null,
      "outputs": [
        {
          "output_type": "execute_result",
          "data": {
            "text/plain": [
              "False"
            ]
          },
          "metadata": {},
          "execution_count": 5
        }
      ]
    },
    {
      "cell_type": "code",
      "source": [
        "dois >= 2"
      ],
      "metadata": {
        "colab": {
          "base_uri": "https://localhost:8080/"
        },
        "id": "mcWGI2O_XvLY",
        "outputId": "6c1be2f0-3cd1-432a-afa4-a4ab17f28cea"
      },
      "execution_count": null,
      "outputs": [
        {
          "output_type": "execute_result",
          "data": {
            "text/plain": [
              "True"
            ]
          },
          "metadata": {},
          "execution_count": 6
        }
      ]
    },
    {
      "cell_type": "code",
      "source": [
        "-1 <= 0"
      ],
      "metadata": {
        "colab": {
          "base_uri": "https://localhost:8080/"
        },
        "id": "s-Nasmq3XyM_",
        "outputId": "1c4a1831-91c8-4f4b-ea74-650784b241db"
      },
      "execution_count": null,
      "outputs": [
        {
          "output_type": "execute_result",
          "data": {
            "text/plain": [
              "True"
            ]
          },
          "metadata": {},
          "execution_count": 7
        }
      ]
    },
    {
      "cell_type": "markdown",
      "source": [
        "## **MÉTODOS**"
      ],
      "metadata": {
        "id": "L0ffznctoy-n"
      }
    },
    {
      "cell_type": "code",
      "source": [
        "a = 1\n",
        "b = 7\n",
        "c = (a+b)/2\n",
        "print(c)"
      ],
      "metadata": {
        "id": "lai7yEstpBUt",
        "colab": {
          "base_uri": "https://localhost:8080/"
        },
        "outputId": "f072344b-5fd9-492c-f252-37df8730b40a"
      },
      "execution_count": null,
      "outputs": [
        {
          "output_type": "stream",
          "name": "stdout",
          "text": [
            "4.0\n"
          ]
        }
      ]
    },
    {
      "cell_type": "code",
      "source": [
        "print('Olá')"
      ],
      "metadata": {
        "colab": {
          "base_uri": "https://localhost:8080/"
        },
        "id": "eYpK1mxBYEm3",
        "outputId": "0dc3be78-7cfe-46cb-8313-30d90fa79ae9"
      },
      "execution_count": null,
      "outputs": [
        {
          "output_type": "stream",
          "name": "stdout",
          "text": [
            "Olá\n"
          ]
        }
      ]
    },
    {
      "cell_type": "code",
      "source": [
        "int('3')"
      ],
      "metadata": {
        "colab": {
          "base_uri": "https://localhost:8080/"
        },
        "id": "dotCwjIEYJ6I",
        "outputId": "e92d9e59-a755-42d2-cdc0-98d5df1ecb69"
      },
      "execution_count": null,
      "outputs": [
        {
          "output_type": "execute_result",
          "data": {
            "text/plain": [
              "3"
            ]
          },
          "metadata": {},
          "execution_count": 10
        }
      ]
    },
    {
      "cell_type": "code",
      "source": [
        "b = 3\n",
        "float(b)\n",
        "type(b)"
      ],
      "metadata": {
        "id": "V4y5S_qgYNjw",
        "colab": {
          "base_uri": "https://localhost:8080/"
        },
        "outputId": "3f5813c2-ab72-4a76-e7cf-71f1141e69c0"
      },
      "execution_count": null,
      "outputs": [
        {
          "output_type": "execute_result",
          "data": {
            "text/plain": [
              "int"
            ]
          },
          "metadata": {},
          "execution_count": 2
        }
      ]
    },
    {
      "cell_type": "code",
      "source": [],
      "metadata": {
        "id": "kKGG0piCdMsG"
      },
      "execution_count": null,
      "outputs": []
    },
    {
      "cell_type": "code",
      "execution_count": null,
      "metadata": {
        "id": "YHOfioys3nDU",
        "colab": {
          "base_uri": "https://localhost:8080/"
        },
        "outputId": "cc4a84b8-15ee-45b7-f494-922e68d0d613"
      },
      "outputs": [
        {
          "output_type": "execute_result",
          "data": {
            "text/plain": [
              "float"
            ]
          },
          "metadata": {},
          "execution_count": 3
        }
      ],
      "source": [
        "type(float(b))"
      ]
    },
    {
      "cell_type": "markdown",
      "source": [
        "**CONTADOR DE CARACTÉRES**"
      ],
      "metadata": {
        "id": "0M4YI0Sw0K3d"
      }
    },
    {
      "cell_type": "code",
      "source": [
        "len('larissa')"
      ],
      "metadata": {
        "colab": {
          "base_uri": "https://localhost:8080/"
        },
        "id": "hQzTB4-n0HP6",
        "outputId": "cb5b0eb9-f732-4f66-b284-e0c24f1f6151"
      },
      "execution_count": null,
      "outputs": [
        {
          "output_type": "execute_result",
          "data": {
            "text/plain": [
              "7"
            ]
          },
          "metadata": {},
          "execution_count": 4
        }
      ]
    },
    {
      "cell_type": "markdown",
      "source": [
        "**NÚMERO ABSOLUTO**"
      ],
      "metadata": {
        "id": "NQDn-zQ20S9o"
      }
    },
    {
      "cell_type": "code",
      "source": [
        "abs(-10)"
      ],
      "metadata": {
        "colab": {
          "base_uri": "https://localhost:8080/"
        },
        "id": "UeeddGkc0WKz",
        "outputId": "7ebaebbe-5480-4ca5-89e2-94843fc3237a"
      },
      "execution_count": null,
      "outputs": [
        {
          "output_type": "execute_result",
          "data": {
            "text/plain": [
              "10"
            ]
          },
          "metadata": {},
          "execution_count": 5
        }
      ]
    },
    {
      "cell_type": "markdown",
      "source": [
        "**DEFININDO UMA LISTA**"
      ],
      "metadata": {
        "id": "jj9HwlvM0ads"
      }
    },
    {
      "cell_type": "code",
      "source": [
        "lista = [1, 2, 3, 4, 5, 6, 7, 8, 9, 10]"
      ],
      "metadata": {
        "id": "cPiuY5ND0ZlL"
      },
      "execution_count": null,
      "outputs": []
    },
    {
      "cell_type": "markdown",
      "source": [
        "**SOMA**"
      ],
      "metadata": {
        "id": "-CqiInjN02pW"
      }
    },
    {
      "cell_type": "code",
      "source": [
        "sum(lista)"
      ],
      "metadata": {
        "colab": {
          "base_uri": "https://localhost:8080/"
        },
        "id": "XLMe4p910zt1",
        "outputId": "29bed50b-523a-45dc-9c04-64ce37358504"
      },
      "execution_count": null,
      "outputs": [
        {
          "output_type": "execute_result",
          "data": {
            "text/plain": [
              "55"
            ]
          },
          "metadata": {},
          "execution_count": 7
        }
      ]
    },
    {
      "cell_type": "markdown",
      "source": [
        "**CONTAGEM DE VALORES**"
      ],
      "metadata": {
        "id": "S__JDsMn1B0W"
      }
    },
    {
      "cell_type": "code",
      "source": [
        "len(lista)"
      ],
      "metadata": {
        "colab": {
          "base_uri": "https://localhost:8080/"
        },
        "id": "UyP_-y5c09yF",
        "outputId": "1f0e53a3-8d2d-4ad9-ef4a-5794223eb5d8"
      },
      "execution_count": null,
      "outputs": [
        {
          "output_type": "execute_result",
          "data": {
            "text/plain": [
              "10"
            ]
          },
          "metadata": {},
          "execution_count": 8
        }
      ]
    },
    {
      "cell_type": "markdown",
      "source": [
        "**MÁXIMO**"
      ],
      "metadata": {
        "id": "T34xihMl1Ht2"
      }
    },
    {
      "cell_type": "code",
      "source": [
        "max(lista)"
      ],
      "metadata": {
        "colab": {
          "base_uri": "https://localhost:8080/"
        },
        "id": "1HMoCYGJ1NLW",
        "outputId": "294fdbae-1f03-4a57-ca5a-353b9f6e9ee4"
      },
      "execution_count": null,
      "outputs": [
        {
          "output_type": "execute_result",
          "data": {
            "text/plain": [
              "10"
            ]
          },
          "metadata": {},
          "execution_count": 9
        }
      ]
    },
    {
      "cell_type": "markdown",
      "source": [
        "**MÍNIMO**"
      ],
      "metadata": {
        "id": "qpIrTVjK1T4I"
      }
    },
    {
      "cell_type": "code",
      "source": [
        "min(lista)"
      ],
      "metadata": {
        "colab": {
          "base_uri": "https://localhost:8080/"
        },
        "id": "wlbOdRp51Py8",
        "outputId": "37f1fe2a-b58e-4d4a-e203-a0b097d82d53"
      },
      "execution_count": null,
      "outputs": [
        {
          "output_type": "execute_result",
          "data": {
            "text/plain": [
              "1"
            ]
          },
          "metadata": {},
          "execution_count": 10
        }
      ]
    },
    {
      "cell_type": "markdown",
      "source": [
        "**ARREDONDAR**"
      ],
      "metadata": {
        "id": "9FICG51P1pnf"
      }
    },
    {
      "cell_type": "code",
      "source": [
        "round(2.68997551)"
      ],
      "metadata": {
        "colab": {
          "base_uri": "https://localhost:8080/"
        },
        "id": "XwxaGQ3D1dCi",
        "outputId": "f202f47c-1575-41e2-aa81-bbf880db4ed9"
      },
      "execution_count": null,
      "outputs": [
        {
          "output_type": "execute_result",
          "data": {
            "text/plain": [
              "3"
            ]
          },
          "metadata": {},
          "execution_count": 11
        }
      ]
    },
    {
      "cell_type": "markdown",
      "source": [
        "**USUÁRIO PEDE INFORMAÇÃO**"
      ],
      "metadata": {
        "id": "7zcYsa0p2eaI"
      }
    },
    {
      "cell_type": "code",
      "source": [
        "input(\"Digite um valor\")"
      ],
      "metadata": {
        "id": "X0L9xATf55c7",
        "colab": {
          "base_uri": "https://localhost:8080/",
          "height": 53
        },
        "outputId": "fb1a2759-211f-4332-fb72-d6acc8bcd99d"
      },
      "execution_count": null,
      "outputs": [
        {
          "name": "stdout",
          "output_type": "stream",
          "text": [
            "Digite um valor88\n"
          ]
        },
        {
          "output_type": "execute_result",
          "data": {
            "text/plain": [
              "'88'"
            ],
            "application/vnd.google.colaboratory.intrinsic+json": {
              "type": "string"
            }
          },
          "metadata": {},
          "execution_count": 14
        }
      ]
    },
    {
      "cell_type": "code",
      "source": [
        "a = int(input('Digite sua idade'))\n",
        "b = a*2\n",
        "print(b)"
      ],
      "metadata": {
        "colab": {
          "base_uri": "https://localhost:8080/"
        },
        "id": "_K2Hl8r-COBx",
        "outputId": "ffa2f7b9-01fe-4344-c3f8-86a589155fef"
      },
      "execution_count": null,
      "outputs": [
        {
          "output_type": "stream",
          "name": "stdout",
          "text": [
            "Digite sua idade25\n",
            "50\n"
          ]
        }
      ]
    },
    {
      "cell_type": "markdown",
      "source": [
        "## **FUNÇÕES**\n"
      ],
      "metadata": {
        "id": "ssuf8PnE2vPW"
      }
    },
    {
      "cell_type": "markdown",
      "source": [
        "Parte de um programa ou classe que retorna um valor.\n",
        " \n",
        "\"\"\"def nome(valores):\n",
        "      return comandos\"\"\""
      ],
      "metadata": {
        "id": "LUAHP2CRJ4zG"
      }
    },
    {
      "cell_type": "code",
      "source": [
        "def soma_dois_valores(valor1, valor2):\n",
        "  return valor1+valor2"
      ],
      "metadata": {
        "id": "vvQyaINHJqJH"
      },
      "execution_count": 1,
      "outputs": []
    },
    {
      "cell_type": "code",
      "source": [
        "soma_dois_valores(3,5)"
      ],
      "metadata": {
        "colab": {
          "base_uri": "https://localhost:8080/"
        },
        "id": "Hv0bgTeHKk6c",
        "outputId": "752f2c11-7e46-4f95-ed3c-adaa8b999638"
      },
      "execution_count": 2,
      "outputs": [
        {
          "output_type": "execute_result",
          "data": {
            "text/plain": [
              "8"
            ]
          },
          "metadata": {},
          "execution_count": 2
        }
      ]
    },
    {
      "cell_type": "code",
      "source": [
        "def subtrai_dois_valores(valor1, valor2):\n",
        "  return valor1-valor2"
      ],
      "metadata": {
        "id": "izuIC9dwKpfV"
      },
      "execution_count": 3,
      "outputs": []
    },
    {
      "cell_type": "code",
      "source": [
        "subtrai_dois_valores(8,5)"
      ],
      "metadata": {
        "colab": {
          "base_uri": "https://localhost:8080/"
        },
        "id": "0Ay7K46kKvLB",
        "outputId": "a8d00b10-c5fc-43fa-8e9a-e910b82889b6"
      },
      "execution_count": 4,
      "outputs": [
        {
          "output_type": "execute_result",
          "data": {
            "text/plain": [
              "3"
            ]
          },
          "metadata": {},
          "execution_count": 4
        }
      ]
    },
    {
      "cell_type": "markdown",
      "source": [
        "## **LISTAS**\n"
      ],
      "metadata": {
        "id": "i2_VNvfm3GOM"
      }
    },
    {
      "cell_type": "code",
      "source": [
        "venda1 = 1000000\n",
        "venda2 = 300000\n",
        "venda3 = 500000\n",
        "media = (venda1+venda2+venda3)/3\n",
        "media"
      ],
      "metadata": {
        "colab": {
          "base_uri": "https://localhost:8080/"
        },
        "id": "rSxx5aEIK2jh",
        "outputId": "e3f28323-400d-485c-d3db-60913b41e073"
      },
      "execution_count": 5,
      "outputs": [
        {
          "output_type": "execute_result",
          "data": {
            "text/plain": [
              "600000.0"
            ]
          },
          "metadata": {},
          "execution_count": 5
        }
      ]
    },
    {
      "cell_type": "code",
      "source": [
        "vendas = [1000000, 300000, 500000]"
      ],
      "metadata": {
        "id": "vZ8tdACxLEHc"
      },
      "execution_count": 6,
      "outputs": []
    },
    {
      "cell_type": "code",
      "source": [
        "sales = list((1000000, 300000, 500000))"
      ],
      "metadata": {
        "id": "rSDqZgaILIlT"
      },
      "execution_count": 7,
      "outputs": []
    },
    {
      "cell_type": "code",
      "source": [
        "type(vendas)"
      ],
      "metadata": {
        "colab": {
          "base_uri": "https://localhost:8080/"
        },
        "id": "EhzZDCbrLMgU",
        "outputId": "bc63d93f-19e7-4ed1-9a0c-7f93469ae5f1"
      },
      "execution_count": 8,
      "outputs": [
        {
          "output_type": "execute_result",
          "data": {
            "text/plain": [
              "list"
            ]
          },
          "metadata": {},
          "execution_count": 8
        }
      ]
    },
    {
      "cell_type": "code",
      "source": [
        "type(sales)"
      ],
      "metadata": {
        "colab": {
          "base_uri": "https://localhost:8080/"
        },
        "id": "1SI23NmmLQhj",
        "outputId": "47b114f5-0944-4665-b182-8bf72bef73f6"
      },
      "execution_count": 9,
      "outputs": [
        {
          "output_type": "execute_result",
          "data": {
            "text/plain": [
              "list"
            ]
          },
          "metadata": {},
          "execution_count": 9
        }
      ]
    },
    {
      "cell_type": "markdown",
      "source": [
        "**APPEND** é a operação para **concatenar listas ou matrizes** vinculadas em algumas linguagens de programação de alto"
      ],
      "metadata": {
        "id": "nCcWDE7kLbXf"
      }
    },
    {
      "cell_type": "code",
      "source": [
        "vendas.append(400000)\n",
        "vendas"
      ],
      "metadata": {
        "colab": {
          "base_uri": "https://localhost:8080/"
        },
        "id": "gDUAH8BnLpDQ",
        "outputId": "8035b2ef-bccf-4fbd-9f0a-d07296518db5"
      },
      "execution_count": 10,
      "outputs": [
        {
          "output_type": "execute_result",
          "data": {
            "text/plain": [
              "[1000000, 300000, 500000, 400000]"
            ]
          },
          "metadata": {},
          "execution_count": 10
        }
      ]
    },
    {
      "cell_type": "markdown",
      "source": [
        "**SUM** é a soma da lista dos elementos"
      ],
      "metadata": {
        "id": "FyhQgnh3LyoO"
      }
    },
    {
      "cell_type": "code",
      "source": [
        "sum(vendas)"
      ],
      "metadata": {
        "colab": {
          "base_uri": "https://localhost:8080/"
        },
        "id": "VkZXMyCNMBiP",
        "outputId": "5bf1d99f-65b9-4887-b0f3-031881174c64"
      },
      "execution_count": 11,
      "outputs": [
        {
          "output_type": "execute_result",
          "data": {
            "text/plain": [
              "2200000"
            ]
          },
          "metadata": {},
          "execution_count": 11
        }
      ]
    },
    {
      "cell_type": "markdown",
      "source": [
        "**LEN** é a o comprimento dos elementos totais da lista."
      ],
      "metadata": {
        "id": "ZsPuPUCZL5oa"
      }
    },
    {
      "cell_type": "code",
      "source": [
        "len(vendas)"
      ],
      "metadata": {
        "colab": {
          "base_uri": "https://localhost:8080/"
        },
        "id": "Y72I-Z2VME2W",
        "outputId": "1141e44a-c801-42a0-ebfb-57674f1316d8"
      },
      "execution_count": 12,
      "outputs": [
        {
          "output_type": "execute_result",
          "data": {
            "text/plain": [
              "4"
            ]
          },
          "metadata": {},
          "execution_count": 12
        }
      ]
    },
    {
      "cell_type": "markdown",
      "source": [
        "## **TUPLAS**"
      ],
      "metadata": {
        "id": "7loVN7V8MOZV"
      }
    },
    {
      "cell_type": "markdown",
      "source": [
        "São imutáveis e são únicas."
      ],
      "metadata": {
        "id": "Zj-fU5ewMpZu"
      }
    },
    {
      "cell_type": "code",
      "source": [
        "notas_tuplas = (3,5,6,1)"
      ],
      "metadata": {
        "id": "yLKOQCuUMRA0"
      },
      "execution_count": 13,
      "outputs": []
    },
    {
      "cell_type": "code",
      "source": [
        "type(notas_tuplas)"
      ],
      "metadata": {
        "colab": {
          "base_uri": "https://localhost:8080/"
        },
        "id": "KhS2PF1gMVc_",
        "outputId": "2a07f24a-9f64-4c5c-e21e-002cb5dff45b"
      },
      "execution_count": 14,
      "outputs": [
        {
          "output_type": "execute_result",
          "data": {
            "text/plain": [
              "tuple"
            ]
          },
          "metadata": {},
          "execution_count": 14
        }
      ]
    },
    {
      "cell_type": "code",
      "source": [
        "notas_tuplas = notas_tuplas + (7,)"
      ],
      "metadata": {
        "id": "cdWl83QaMZi3"
      },
      "execution_count": 15,
      "outputs": []
    },
    {
      "cell_type": "markdown",
      "source": [
        "## **SET**"
      ],
      "metadata": {
        "id": "RdM8AIsgMw3N"
      }
    },
    {
      "cell_type": "markdown",
      "source": [
        "São valores únicos e ordenados. "
      ],
      "metadata": {
        "id": "KVQKAufxM0yc"
      }
    },
    {
      "cell_type": "code",
      "source": [
        "set_notas = {3,3,5,9,6,6}\n",
        "set_notas"
      ],
      "metadata": {
        "colab": {
          "base_uri": "https://localhost:8080/"
        },
        "id": "7j5EVlaxNEMb",
        "outputId": "f7084995-7e65-4528-e90c-6a4d84c666b9"
      },
      "execution_count": 16,
      "outputs": [
        {
          "output_type": "execute_result",
          "data": {
            "text/plain": [
              "{3, 5, 6, 9}"
            ]
          },
          "metadata": {},
          "execution_count": 16
        }
      ]
    },
    {
      "cell_type": "markdown",
      "source": [
        "**Add:** adiciona elemento"
      ],
      "metadata": {
        "id": "bTOB3UxdNOja"
      }
    },
    {
      "cell_type": "code",
      "source": [
        "set_notas.add(10)\n",
        "set_notas"
      ],
      "metadata": {
        "colab": {
          "base_uri": "https://localhost:8080/"
        },
        "id": "DhteesjDNKG1",
        "outputId": "06b0f248-dc87-4731-fd1f-23ff21cbbbed"
      },
      "execution_count": 17,
      "outputs": [
        {
          "output_type": "execute_result",
          "data": {
            "text/plain": [
              "{3, 5, 6, 9, 10}"
            ]
          },
          "metadata": {},
          "execution_count": 17
        }
      ]
    },
    {
      "cell_type": "markdown",
      "source": [
        "## **DICIONÁRIO**"
      ],
      "metadata": {
        "id": "r_-PNoI3Nzo0"
      }
    },
    {
      "cell_type": "markdown",
      "source": [
        "## **ESTRUTURAS CONDICIONAIS**"
      ],
      "metadata": {
        "id": "dUBAnqszN2cR"
      }
    },
    {
      "cell_type": "markdown",
      "source": [
        "# **ESTRUTURAS DE REPETIÇÃO**"
      ],
      "metadata": {
        "id": "1rNbumbWN7mL"
      }
    }
  ]
}