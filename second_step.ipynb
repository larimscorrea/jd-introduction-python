{
  "nbformat": 4,
  "nbformat_minor": 0,
  "metadata": {
    "colab": {
      "provenance": [],
      "authorship_tag": "ABX9TyMAAnXwnTwUIvvKx5sLEnWC",
      "include_colab_link": true
    },
    "kernelspec": {
      "name": "python3",
      "display_name": "Python 3"
    },
    "language_info": {
      "name": "python"
    }
  },
  "cells": [
    {
      "cell_type": "markdown",
      "metadata": {
        "id": "view-in-github",
        "colab_type": "text"
      },
      "source": [
        "<a href=\"https://colab.research.google.com/github/larimscorrea/jd-introduction-python/blob/main/second_step.ipynb\" target=\"_parent\"><img src=\"https://colab.research.google.com/assets/colab-badge.svg\" alt=\"Open In Colab\"/></a>"
      ]
    },
    {
      "cell_type": "markdown",
      "source": [],
      "metadata": {
        "id": "plAKRqFqzFHb"
      }
    },
    {
      "cell_type": "markdown",
      "source": [
        "## **RANDOM**"
      ],
      "metadata": {
        "id": "ta5t8EVWzGTP"
      }
    },
    {
      "cell_type": "markdown",
      "source": [
        "Gera números pseudo-aleatórios para entender um farol de trânsito"
      ],
      "metadata": {
        "id": "sCob3ZpezI0Q"
      }
    },
    {
      "cell_type": "code",
      "source": [
        "farol = ['vermelho', 'amarelo', 'verde']\n",
        "import random"
      ],
      "metadata": {
        "id": "DkDRW7A0zLzh"
      },
      "execution_count": null,
      "outputs": []
    },
    {
      "cell_type": "code",
      "source": [
        "indice = random.randint(0,2) "
      ],
      "metadata": {
        "id": "y9B6K5FgzXLp"
      },
      "execution_count": null,
      "outputs": []
    },
    {
      "cell_type": "code",
      "source": [
        "if farol[indice] == 'vermelho':\n",
        "  print(farol[indice])\n",
        "  print('O sinal está fechado!')\n",
        "elif farol[indice] == 'amarelo':\n",
        "  print(farol[indice])\n",
        "  print('Atenção!')\n",
        "else:\n",
        "  print(farol[indice])\n",
        "  print('Pode Seguir!')"
      ],
      "metadata": {
        "colab": {
          "base_uri": "https://localhost:8080/"
        },
        "id": "gTPeK2Dqzb96",
        "outputId": "102e8947-96e1-47b2-ba72-c3ef5fb2b463"
      },
      "execution_count": null,
      "outputs": [
        {
          "output_type": "stream",
          "name": "stdout",
          "text": [
            "amarelo\n",
            "Atenção!\n"
          ]
        }
      ]
    },
    {
      "cell_type": "markdown",
      "source": [
        "## **FUNÇÕES EM STRING**"
      ],
      "metadata": {
        "id": "jvsRVyj40AlG"
      }
    },
    {
      "cell_type": "markdown",
      "source": [
        "**strip()** = retorna a string sem os caracteres em BRANCO \n",
        "\n",
        "lower()\n",
        "\n",
        "upper()\n",
        "\n",
        "**capitalize()** = escreve a string com a primeira letra maiúscula e as demais letras minúsculas"
      ],
      "metadata": {
        "id": "XgZoVmb90I6d"
      }
    },
    {
      "cell_type": "code",
      "source": [
        "pessoas_conhecidas = ['Ana', 'ManuEla', ' felipe', 'PeDro']"
      ],
      "metadata": {
        "id": "WivxxSUs0SYw"
      },
      "execution_count": null,
      "outputs": []
    },
    {
      "cell_type": "code",
      "source": [
        "pessoas_conhecidas[2].strip().capitalize()"
      ],
      "metadata": {
        "colab": {
          "base_uri": "https://localhost:8080/",
          "height": 36
        },
        "id": "1ZKMHvi00ex8",
        "outputId": "3fca7e06-d611-498f-ba66-5a54bb1e89dd"
      },
      "execution_count": null,
      "outputs": [
        {
          "output_type": "execute_result",
          "data": {
            "text/plain": [
              "'Felipe'"
            ],
            "application/vnd.google.colaboratory.intrinsic+json": {
              "type": "string"
            }
          },
          "metadata": {},
          "execution_count": 16
        }
      ]
    },
    {
      "cell_type": "code",
      "source": [
        "pessoas_conhecidas"
      ],
      "metadata": {
        "colab": {
          "base_uri": "https://localhost:8080/"
        },
        "id": "8TAytYkY0m2U",
        "outputId": "fd9a2f5c-6a9f-4c2b-cced-87511c4009e3"
      },
      "execution_count": null,
      "outputs": [
        {
          "output_type": "execute_result",
          "data": {
            "text/plain": [
              "['Ana', 'ManuEla', ' Felipe', 'PeDro']"
            ]
          },
          "metadata": {},
          "execution_count": 17
        }
      ]
    },
    {
      "cell_type": "markdown",
      "source": [
        "## **COMPREENSÃO DE LISTAS**"
      ],
      "metadata": {
        "id": "aJRow2wr_Wl9"
      }
    },
    {
      "cell_type": "code",
      "source": [
        "minha_lista = [1, 2, 3, 4, 5]"
      ],
      "metadata": {
        "id": "c6PIxlVzAE6I"
      },
      "execution_count": 38,
      "outputs": []
    },
    {
      "cell_type": "code",
      "source": [
        "for x in minha_lista:\n",
        "  x + 1"
      ],
      "metadata": {
        "id": "JU0SmMGNAAb8"
      },
      "execution_count": 40,
      "outputs": []
    },
    {
      "cell_type": "code",
      "source": [
        "[x for x in range(5)]"
      ],
      "metadata": {
        "colab": {
          "base_uri": "https://localhost:8080/"
        },
        "id": "1m7wKUe0ALey",
        "outputId": "20d752cd-a69e-4df4-9a7a-9f839fe9969f"
      },
      "execution_count": 41,
      "outputs": [
        {
          "output_type": "execute_result",
          "data": {
            "text/plain": [
              "[0, 1, 2, 3, 4]"
            ]
          },
          "metadata": {},
          "execution_count": 41
        }
      ]
    },
    {
      "cell_type": "code",
      "source": [
        "[x**2 for x in range(4)]"
      ],
      "metadata": {
        "colab": {
          "base_uri": "https://localhost:8080/"
        },
        "id": "63sTeAMuAVMS",
        "outputId": "d3e35f5c-9a94-45ab-f372-d68b57131aed"
      },
      "execution_count": 42,
      "outputs": [
        {
          "output_type": "execute_result",
          "data": {
            "text/plain": [
              "[0, 1, 4, 9]"
            ]
          },
          "metadata": {},
          "execution_count": 42
        }
      ]
    },
    {
      "cell_type": "markdown",
      "source": [
        "**APENAS NÚMEROS PARES NO INTERVALO DE 0 A 9**"
      ],
      "metadata": {
        "id": "CfUxU0KhAaOM"
      }
    },
    {
      "cell_type": "code",
      "source": [
        "[x for x in range(10) if x % 2 ==0] "
      ],
      "metadata": {
        "colab": {
          "base_uri": "https://localhost:8080/"
        },
        "id": "1w-x0AJTAW3V",
        "outputId": "997d5e45-46f5-4efd-8876-0733b330a2b4"
      },
      "execution_count": 44,
      "outputs": [
        {
          "output_type": "execute_result",
          "data": {
            "text/plain": [
              "[0, 2, 4, 6, 8]"
            ]
          },
          "metadata": {},
          "execution_count": 44
        }
      ]
    },
    {
      "cell_type": "markdown",
      "source": [
        "## **FUNÇÕES LAMBDA**"
      ],
      "metadata": {
        "id": "Og7AzQpW25qH"
      }
    },
    {
      "cell_type": "code",
      "source": [
        "def eleva_ao_quadrado(x):\n",
        "  return x**2\n",
        "\n"
      ],
      "metadata": {
        "id": "8HmkPt1VDKL7"
      },
      "execution_count": null,
      "outputs": []
    },
    {
      "cell_type": "code",
      "source": [
        "eleva_ao_quadrado(4)"
      ],
      "metadata": {
        "id": "q6l-8EzK3Ec8",
        "colab": {
          "base_uri": "https://localhost:8080/"
        },
        "outputId": "f6617da9-c387-430c-8813-89a22e6e8f32"
      },
      "execution_count": 31,
      "outputs": [
        {
          "output_type": "execute_result",
          "data": {
            "text/plain": [
              "16"
            ]
          },
          "metadata": {},
          "execution_count": 31
        }
      ]
    },
    {
      "cell_type": "code",
      "source": [
        "def impar_ou_par(n):\n",
        "  if n % 2 == 0:\n",
        "    print(f'{n} é par')\n",
        "  else:\n",
        "    print(f'{n} é ímpar')"
      ],
      "metadata": {
        "id": "-39MrzUy-uwk"
      },
      "execution_count": 32,
      "outputs": []
    },
    {
      "cell_type": "code",
      "source": [
        "impar_ou_par(5)"
      ],
      "metadata": {
        "colab": {
          "base_uri": "https://localhost:8080/"
        },
        "id": "VfOBkZGT-0Rv",
        "outputId": "f28bee55-9f3e-4218-d55e-03ea2fb4f33f"
      },
      "execution_count": 33,
      "outputs": [
        {
          "output_type": "stream",
          "name": "stdout",
          "text": [
            "5 é ímpar\n"
          ]
        }
      ]
    },
    {
      "cell_type": "code",
      "source": [
        "impoupar = lambda n: print(f'{n} é par') if n % 2 == 0 else print(f'{n} é impar')"
      ],
      "metadata": {
        "id": "N1gSoY3G-989"
      },
      "execution_count": 35,
      "outputs": []
    },
    {
      "cell_type": "code",
      "source": [
        "impoupar(60)"
      ],
      "metadata": {
        "colab": {
          "base_uri": "https://localhost:8080/"
        },
        "id": "c_8kqifa_M7F",
        "outputId": "6761d1fa-84a5-4865-8d99-cde367103650"
      },
      "execution_count": 36,
      "outputs": [
        {
          "output_type": "stream",
          "name": "stdout",
          "text": [
            "60 é par\n"
          ]
        }
      ]
    }
  ]
}