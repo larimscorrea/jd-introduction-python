{
  "nbformat": 4,
  "nbformat_minor": 0,
  "metadata": {
    "colab": {
      "provenance": [],
      "authorship_tag": "ABX9TyNRT2HOHBEhINjskBKEqO6P",
      "include_colab_link": true
    },
    "kernelspec": {
      "name": "python3",
      "display_name": "Python 3"
    },
    "language_info": {
      "name": "python"
    }
  },
  "cells": [
    {
      "cell_type": "markdown",
      "metadata": {
        "id": "view-in-github",
        "colab_type": "text"
      },
      "source": [
        "<a href=\"https://colab.research.google.com/github/larimscorrea/jd-introduction-python/blob/main/second_step.ipynb\" target=\"_parent\"><img src=\"https://colab.research.google.com/assets/colab-badge.svg\" alt=\"Open In Colab\"/></a>"
      ]
    },
    {
      "cell_type": "markdown",
      "source": [
        "## **NUMPY ARRAYS**"
      ],
      "metadata": {
        "id": "gRh2lv8LrI6h"
      }
    },
    {
      "cell_type": "markdown",
      "source": [
        "Array é uma estrutura de dados que armazena uma coleção de elementos e que cada um dos elementos pode ser identificado por, pelo menos, um índice ou uma chave."
      ],
      "metadata": {
        "id": "XReMzHL2rS1E"
      }
    },
    {
      "cell_type": "code",
      "source": [
        "import numpy as np"
      ],
      "metadata": {
        "id": "YDPFOT7ErUEL"
      },
      "execution_count": 1,
      "outputs": []
    },
    {
      "cell_type": "code",
      "source": [
        "lista = list(range(10))"
      ],
      "metadata": {
        "id": "WEUQ_UsurgGc"
      },
      "execution_count": 2,
      "outputs": []
    },
    {
      "cell_type": "code",
      "source": [
        "lista"
      ],
      "metadata": {
        "colab": {
          "base_uri": "https://localhost:8080/"
        },
        "id": "4wJVc-K3rhgr",
        "outputId": "635b9af3-814e-4ee6-a4d3-8c32a1451425"
      },
      "execution_count": 3,
      "outputs": [
        {
          "output_type": "execute_result",
          "data": {
            "text/plain": [
              "[0, 1, 2, 3, 4, 5, 6, 7, 8, 9]"
            ]
          },
          "metadata": {},
          "execution_count": 3
        }
      ]
    },
    {
      "cell_type": "code",
      "source": [
        "type(lista)"
      ],
      "metadata": {
        "colab": {
          "base_uri": "https://localhost:8080/"
        },
        "id": "KSPfl5IcrkHf",
        "outputId": "3cdd3fce-0b1b-4760-dc57-57480e9cfbbd"
      },
      "execution_count": 4,
      "outputs": [
        {
          "output_type": "execute_result",
          "data": {
            "text/plain": [
              "list"
            ]
          },
          "metadata": {},
          "execution_count": 4
        }
      ]
    },
    {
      "cell_type": "code",
      "source": [
        "np.arange(0, 10)"
      ],
      "metadata": {
        "colab": {
          "base_uri": "https://localhost:8080/"
        },
        "id": "JJOYK6eBrs2E",
        "outputId": "20fc1656-d525-4e8a-9855-beb02726a33e"
      },
      "execution_count": 9,
      "outputs": [
        {
          "output_type": "execute_result",
          "data": {
            "text/plain": [
              "array([0, 1, 2, 3, 4, 5, 6, 7, 8, 9])"
            ]
          },
          "metadata": {},
          "execution_count": 9
        }
      ]
    },
    {
      "cell_type": "code",
      "source": [
        "np.arange(1,10,3)"
      ],
      "metadata": {
        "colab": {
          "base_uri": "https://localhost:8080/"
        },
        "id": "468Zxh5JsfWk",
        "outputId": "d00625a5-88cd-4273-9254-e49be45d815f"
      },
      "execution_count": 10,
      "outputs": [
        {
          "output_type": "execute_result",
          "data": {
            "text/plain": [
              "array([1, 4, 7])"
            ]
          },
          "metadata": {},
          "execution_count": 10
        }
      ]
    },
    {
      "cell_type": "markdown",
      "source": [
        "**LISTA CONVERTIDA EM ARRAY**"
      ],
      "metadata": {
        "id": "73YZFFd3sz4E"
      }
    },
    {
      "cell_type": "code",
      "source": [
        "a = np.array(lista)\n",
        "a"
      ],
      "metadata": {
        "colab": {
          "base_uri": "https://localhost:8080/"
        },
        "id": "xkIBrpnBs5N-",
        "outputId": "e1962442-4a04-4af4-d997-5f86914fccf7"
      },
      "execution_count": 11,
      "outputs": [
        {
          "output_type": "execute_result",
          "data": {
            "text/plain": [
              "array([0, 1, 2, 3, 4, 5, 6, 7, 8, 9])"
            ]
          },
          "metadata": {},
          "execution_count": 11
        }
      ]
    },
    {
      "cell_type": "code",
      "source": [
        "type(a)"
      ],
      "metadata": {
        "colab": {
          "base_uri": "https://localhost:8080/"
        },
        "id": "MY63-tmctFMy",
        "outputId": "4d7b836e-a426-4c46-c322-3d5ae397fe30"
      },
      "execution_count": 12,
      "outputs": [
        {
          "output_type": "execute_result",
          "data": {
            "text/plain": [
              "numpy.ndarray"
            ]
          },
          "metadata": {},
          "execution_count": 12
        }
      ]
    },
    {
      "cell_type": "markdown",
      "source": [
        "**LISTA COM VÁRIOS TIPOS DE VARIÁVEIS**"
      ],
      "metadata": {
        "id": "KZ_13d_AtHgO"
      }
    },
    {
      "cell_type": "code",
      "source": [
        "misturados = [2.3, 9, 'nome', False]"
      ],
      "metadata": {
        "id": "SD-eglKmtPpW"
      },
      "execution_count": 13,
      "outputs": []
    },
    {
      "cell_type": "markdown",
      "source": [
        "**ESTRUTURA DE REPETIÇÃO**"
      ],
      "metadata": {
        "id": "_zna3RcTtU8w"
      }
    },
    {
      "cell_type": "code",
      "source": [
        "for el in misturados:\n",
        "    print(type(el))"
      ],
      "metadata": {
        "colab": {
          "base_uri": "https://localhost:8080/"
        },
        "id": "qWsnNXuptZY0",
        "outputId": "53280d88-0583-4149-e82f-893b0407efa4"
      },
      "execution_count": 14,
      "outputs": [
        {
          "output_type": "stream",
          "name": "stdout",
          "text": [
            "<class 'float'>\n",
            "<class 'int'>\n",
            "<class 'str'>\n",
            "<class 'bool'>\n"
          ]
        }
      ]
    },
    {
      "cell_type": "code",
      "source": [
        "misturados_array = np.array(misturados)\n",
        "type(misturados_array)"
      ],
      "metadata": {
        "colab": {
          "base_uri": "https://localhost:8080/"
        },
        "id": "oK3W4ZP-tyoG",
        "outputId": "42c4075a-6b01-417a-8d4e-1ebb8e8a13b9"
      },
      "execution_count": 15,
      "outputs": [
        {
          "output_type": "execute_result",
          "data": {
            "text/plain": [
              "numpy.ndarray"
            ]
          },
          "metadata": {},
          "execution_count": 15
        }
      ]
    },
    {
      "cell_type": "markdown",
      "source": [
        "**ARRAY CONVERTIDO EM STRING**"
      ],
      "metadata": {
        "id": "Y9xi8FvNtn82"
      }
    },
    {
      "cell_type": "code",
      "source": [
        "for el in misturados_array:\n",
        "    print(type(el))"
      ],
      "metadata": {
        "colab": {
          "base_uri": "https://localhost:8080/"
        },
        "id": "zryg3w2Dt9vH",
        "outputId": "3e462862-1b13-4b7c-e7c0-94fd03ac48fd"
      },
      "execution_count": 16,
      "outputs": [
        {
          "output_type": "stream",
          "name": "stdout",
          "text": [
            "<class 'numpy.str_'>\n",
            "<class 'numpy.str_'>\n",
            "<class 'numpy.str_'>\n",
            "<class 'numpy.str_'>\n"
          ]
        }
      ]
    },
    {
      "cell_type": "code",
      "source": [
        "nums = [1,2,3,4,5.0]\n",
        "np.array(nums)"
      ],
      "metadata": {
        "colab": {
          "base_uri": "https://localhost:8080/"
        },
        "id": "i9mln4GOuMGF",
        "outputId": "627d8bfc-a7c7-4bb5-9366-fb0ca34dd427"
      },
      "execution_count": 17,
      "outputs": [
        {
          "output_type": "execute_result",
          "data": {
            "text/plain": [
              "array([1., 2., 3., 4., 5.])"
            ]
          },
          "metadata": {},
          "execution_count": 17
        }
      ]
    }
  ]
}