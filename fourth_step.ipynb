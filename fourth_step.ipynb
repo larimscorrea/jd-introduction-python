{
  "nbformat": 4,
  "nbformat_minor": 0,
  "metadata": {
    "colab": {
      "provenance": [],
      "authorship_tag": "ABX9TyOo9mYo6l4HBaEnSTGhsCnS",
      "include_colab_link": true
    },
    "kernelspec": {
      "name": "python3",
      "display_name": "Python 3"
    },
    "language_info": {
      "name": "python"
    }
  },
  "cells": [
    {
      "cell_type": "markdown",
      "metadata": {
        "id": "view-in-github",
        "colab_type": "text"
      },
      "source": [
        "<a href=\"https://colab.research.google.com/github/larimscorrea/jd-introduction-python/blob/main/fourth_step.ipynb\" target=\"_parent\"><img src=\"https://colab.research.google.com/assets/colab-badge.svg\" alt=\"Open In Colab\"/></a>"
      ]
    },
    {
      "cell_type": "markdown",
      "source": [
        "## **PANDA**"
      ],
      "metadata": {
        "id": "7xF7PA1EKRzi"
      }
    },
    {
      "cell_type": "code",
      "source": [
        "from google.colab import drive\n",
        "drive.mount('/content/drive')"
      ],
      "metadata": {
        "colab": {
          "base_uri": "https://localhost:8080/"
        },
        "id": "RkJW3k9AKU3g",
        "outputId": "307657c0-6914-4db0-82f2-55ff8f638d67"
      },
      "execution_count": null,
      "outputs": [
        {
          "output_type": "stream",
          "name": "stdout",
          "text": [
            "Mounted at /content/drive\n"
          ]
        }
      ]
    },
    {
      "cell_type": "code",
      "source": [
        "import pandas as pd"
      ],
      "metadata": {
        "id": "lDiqTcMJKmqp"
      },
      "execution_count": null,
      "outputs": []
    },
    {
      "cell_type": "code",
      "source": [
        "#Carregando arquivo (lendo)\n",
        "#pd.read_csv('/content/drive/MyDrive/Bases de Dados/product.csv')\n",
        "#pd.read_csv('/content/drive/MyDrive/Bases de Dados/product.csv',error_bad_lines=False)\n",
        "#pd.read_csv('/content/drive/MyDrive/Bases de Dados/product.csv',error_bad_lines=False, delimiter=';' )\n",
        "\n",
        "#Carregando em DataFrame\n",
        "df = pd.read_csv('/content/drive/MyDrive/Bases de Dados/product.csv',delimiter =';')"
      ],
      "metadata": {
        "id": "VjDroD-oLE1W"
      },
      "execution_count": null,
      "outputs": []
    },
    {
      "cell_type": "markdown",
      "source": [
        "## **ANÁLISE EXPLORATÓRIA DOS DADOS**"
      ],
      "metadata": {
        "id": "yexlUZSmONo3"
      }
    },
    {
      "cell_type": "code",
      "source": [
        "#Visualizar o meu dataframe\n",
        "display(df)"
      ],
      "metadata": {
        "colab": {
          "base_uri": "https://localhost:8080/",
          "height": 190
        },
        "id": "XMD04OyZLIe0",
        "outputId": "662e773c-8979-420a-d464-c9e511781a94"
      },
      "execution_count": null,
      "outputs": [
        {
          "output_type": "error",
          "ename": "NameError",
          "evalue": "ignored",
          "traceback": [
            "\u001b[0;31m---------------------------------------------------------------------------\u001b[0m",
            "\u001b[0;31mNameError\u001b[0m                                 Traceback (most recent call last)",
            "\u001b[0;32m<ipython-input-9-54ca926f26b0>\u001b[0m in \u001b[0;36m<module>\u001b[0;34m\u001b[0m\n\u001b[1;32m      1\u001b[0m \u001b[0;31m#Visualizar o meu dataframe\u001b[0m\u001b[0;34m\u001b[0m\u001b[0;34m\u001b[0m\u001b[0;34m\u001b[0m\u001b[0m\n\u001b[0;32m----> 2\u001b[0;31m \u001b[0mdisplay\u001b[0m\u001b[0;34m(\u001b[0m\u001b[0mdf\u001b[0m\u001b[0;34m)\u001b[0m\u001b[0;34m\u001b[0m\u001b[0;34m\u001b[0m\u001b[0m\n\u001b[0m",
            "\u001b[0;31mNameError\u001b[0m: name 'df' is not defined"
          ]
        }
      ]
    },
    {
      "cell_type": "code",
      "source": [
        "#Ver as primeiras linhas do DataFrame\n",
        "df.head()"
      ],
      "metadata": {
        "colab": {
          "base_uri": "https://localhost:8080/",
          "height": 190
        },
        "id": "ccKrm7K1Lra9",
        "outputId": "cc7aac53-fed1-403c-e5c0-8d2ef3131c7c"
      },
      "execution_count": null,
      "outputs": [
        {
          "output_type": "error",
          "ename": "NameError",
          "evalue": "ignored",
          "traceback": [
            "\u001b[0;31m---------------------------------------------------------------------------\u001b[0m",
            "\u001b[0;31mNameError\u001b[0m                                 Traceback (most recent call last)",
            "\u001b[0;32m<ipython-input-10-eb618f2d44cf>\u001b[0m in \u001b[0;36m<module>\u001b[0;34m\u001b[0m\n\u001b[1;32m      1\u001b[0m \u001b[0;31m#Ver as primeiras linhas do DataFrame\u001b[0m\u001b[0;34m\u001b[0m\u001b[0;34m\u001b[0m\u001b[0;34m\u001b[0m\u001b[0m\n\u001b[0;32m----> 2\u001b[0;31m \u001b[0mdf\u001b[0m\u001b[0;34m.\u001b[0m\u001b[0mhead\u001b[0m\u001b[0;34m(\u001b[0m\u001b[0;34m)\u001b[0m\u001b[0;34m\u001b[0m\u001b[0;34m\u001b[0m\u001b[0m\n\u001b[0m",
            "\u001b[0;31mNameError\u001b[0m: name 'df' is not defined"
          ]
        }
      ]
    },
    {
      "cell_type": "code",
      "source": [
        "#Ver as últimas linhas do df\n",
        "df.tail()"
      ],
      "metadata": {
        "colab": {
          "base_uri": "https://localhost:8080/",
          "height": 190
        },
        "id": "jygduTQwLtfE",
        "outputId": "185a2f3b-549b-4bd0-a3af-a712c512f88b"
      },
      "execution_count": null,
      "outputs": [
        {
          "output_type": "error",
          "ename": "NameError",
          "evalue": "ignored",
          "traceback": [
            "\u001b[0;31m---------------------------------------------------------------------------\u001b[0m",
            "\u001b[0;31mNameError\u001b[0m                                 Traceback (most recent call last)",
            "\u001b[0;32m<ipython-input-11-f16a6eeae68a>\u001b[0m in \u001b[0;36m<module>\u001b[0;34m\u001b[0m\n\u001b[1;32m      1\u001b[0m \u001b[0;31m#Ver as últimas linhas do df\u001b[0m\u001b[0;34m\u001b[0m\u001b[0;34m\u001b[0m\u001b[0;34m\u001b[0m\u001b[0m\n\u001b[0;32m----> 2\u001b[0;31m \u001b[0mdf\u001b[0m\u001b[0;34m.\u001b[0m\u001b[0mtail\u001b[0m\u001b[0;34m(\u001b[0m\u001b[0;34m)\u001b[0m\u001b[0;34m\u001b[0m\u001b[0;34m\u001b[0m\u001b[0m\n\u001b[0m",
            "\u001b[0;31mNameError\u001b[0m: name 'df' is not defined"
          ]
        }
      ]
    },
    {
      "cell_type": "code",
      "source": [
        "#Trazer as informações sobre a base\n",
        "df.info()"
      ],
      "metadata": {
        "colab": {
          "base_uri": "https://localhost:8080/",
          "height": 190
        },
        "id": "9jX-2tyqLxPd",
        "outputId": "d75a43f3-5fa8-4b5b-d666-c95567bed893"
      },
      "execution_count": null,
      "outputs": [
        {
          "output_type": "error",
          "ename": "NameError",
          "evalue": "ignored",
          "traceback": [
            "\u001b[0;31m---------------------------------------------------------------------------\u001b[0m",
            "\u001b[0;31mNameError\u001b[0m                                 Traceback (most recent call last)",
            "\u001b[0;32m<ipython-input-12-eca938ea54f3>\u001b[0m in \u001b[0;36m<module>\u001b[0;34m\u001b[0m\n\u001b[1;32m      1\u001b[0m \u001b[0;31m#Trazer as informações sobre a base\u001b[0m\u001b[0;34m\u001b[0m\u001b[0;34m\u001b[0m\u001b[0;34m\u001b[0m\u001b[0m\n\u001b[0;32m----> 2\u001b[0;31m \u001b[0mdf\u001b[0m\u001b[0;34m.\u001b[0m\u001b[0minfo\u001b[0m\u001b[0;34m(\u001b[0m\u001b[0;34m)\u001b[0m\u001b[0;34m\u001b[0m\u001b[0;34m\u001b[0m\u001b[0m\n\u001b[0m",
            "\u001b[0;31mNameError\u001b[0m: name 'df' is not defined"
          ]
        }
      ]
    },
    {
      "cell_type": "code",
      "source": [
        "#Trazer informações estatísticas sobre o meu df\n",
        "df.describe()\n",
        "#count\t: contagem\n",
        "#mean\t: média\n",
        "#std\t: desvio padrão\n",
        "#min\t: mínimo\n",
        "#25%\t: 1° quartil\n",
        "#50%\t: 2° quartil ou mediana\n",
        "#75%\t: 3° quartil\n",
        "#max\t: máximo ou 4° quartil"
      ],
      "metadata": {
        "colab": {
          "base_uri": "https://localhost:8080/",
          "height": 244
        },
        "id": "bavg-U-4Mlnp",
        "outputId": "4e61ef3f-8acc-46ad-d9ee-63f2ac46bc68"
      },
      "execution_count": null,
      "outputs": [
        {
          "output_type": "error",
          "ename": "NameError",
          "evalue": "ignored",
          "traceback": [
            "\u001b[0;31m---------------------------------------------------------------------------\u001b[0m",
            "\u001b[0;31mNameError\u001b[0m                                 Traceback (most recent call last)",
            "\u001b[0;32m<ipython-input-13-79c2641e3db0>\u001b[0m in \u001b[0;36m<module>\u001b[0;34m\u001b[0m\n\u001b[1;32m      1\u001b[0m \u001b[0;31m#Trazer informações estatísticas sobre o meu df\u001b[0m\u001b[0;34m\u001b[0m\u001b[0;34m\u001b[0m\u001b[0;34m\u001b[0m\u001b[0m\n\u001b[0;32m----> 2\u001b[0;31m \u001b[0mdf\u001b[0m\u001b[0;34m.\u001b[0m\u001b[0mdescribe\u001b[0m\u001b[0;34m(\u001b[0m\u001b[0;34m)\u001b[0m\u001b[0;34m\u001b[0m\u001b[0;34m\u001b[0m\u001b[0m\n\u001b[0m\u001b[1;32m      3\u001b[0m \u001b[0;31m#count  : contagem\u001b[0m\u001b[0;34m\u001b[0m\u001b[0;34m\u001b[0m\u001b[0;34m\u001b[0m\u001b[0m\n\u001b[1;32m      4\u001b[0m \u001b[0;31m#mean   : média\u001b[0m\u001b[0;34m\u001b[0m\u001b[0;34m\u001b[0m\u001b[0;34m\u001b[0m\u001b[0m\n\u001b[1;32m      5\u001b[0m \u001b[0;31m#std    : desvio padrão\u001b[0m\u001b[0;34m\u001b[0m\u001b[0;34m\u001b[0m\u001b[0;34m\u001b[0m\u001b[0m\n",
            "\u001b[0;31mNameError\u001b[0m: name 'df' is not defined"
          ]
        }
      ]
    },
    {
      "cell_type": "code",
      "source": [
        "#Trazer informações estatísticas da váriáceis quantitativas sobre o meu df\n",
        "df.describe(include='O')\n",
        "#count\t: contagem\n",
        "#unique : dados não repetidos\n",
        "#top : valor que mais se repete\n",
        "#freq : frequência que o valor aparece"
      ],
      "metadata": {
        "colab": {
          "base_uri": "https://localhost:8080/",
          "height": 244
        },
        "id": "rWIpZAJrMoSZ",
        "outputId": "599d9a00-3b33-4317-b80c-84f6b275fdaf"
      },
      "execution_count": null,
      "outputs": [
        {
          "output_type": "error",
          "ename": "NameError",
          "evalue": "ignored",
          "traceback": [
            "\u001b[0;31m---------------------------------------------------------------------------\u001b[0m",
            "\u001b[0;31mNameError\u001b[0m                                 Traceback (most recent call last)",
            "\u001b[0;32m<ipython-input-14-12ba596dddb2>\u001b[0m in \u001b[0;36m<module>\u001b[0;34m\u001b[0m\n\u001b[1;32m      1\u001b[0m \u001b[0;31m#Trazer informações estatísticas da váriáceis quantitativas sobre o meu df\u001b[0m\u001b[0;34m\u001b[0m\u001b[0;34m\u001b[0m\u001b[0;34m\u001b[0m\u001b[0m\n\u001b[0;32m----> 2\u001b[0;31m \u001b[0mdf\u001b[0m\u001b[0;34m.\u001b[0m\u001b[0mdescribe\u001b[0m\u001b[0;34m(\u001b[0m\u001b[0minclude\u001b[0m\u001b[0;34m=\u001b[0m\u001b[0;34m'O'\u001b[0m\u001b[0;34m)\u001b[0m\u001b[0;34m\u001b[0m\u001b[0;34m\u001b[0m\u001b[0m\n\u001b[0m\u001b[1;32m      3\u001b[0m \u001b[0;31m#count  : contagem\u001b[0m\u001b[0;34m\u001b[0m\u001b[0;34m\u001b[0m\u001b[0;34m\u001b[0m\u001b[0m\n\u001b[1;32m      4\u001b[0m \u001b[0;31m#unique : dados não repetidos\u001b[0m\u001b[0;34m\u001b[0m\u001b[0;34m\u001b[0m\u001b[0;34m\u001b[0m\u001b[0m\n\u001b[1;32m      5\u001b[0m \u001b[0;31m#top : valor que mais se repete\u001b[0m\u001b[0;34m\u001b[0m\u001b[0;34m\u001b[0m\u001b[0;34m\u001b[0m\u001b[0m\n",
            "\u001b[0;31mNameError\u001b[0m: name 'df' is not defined"
          ]
        }
      ]
    },
    {
      "cell_type": "markdown",
      "source": [
        "## **RENOMEANDO COLUNAS**"
      ],
      "metadata": {
        "id": "azvMYvgTOqgF"
      }
    },
    {
      "cell_type": "code",
      "source": [
        "#Visualizando nome das colunas\n",
        "df.columns"
      ],
      "metadata": {
        "colab": {
          "base_uri": "https://localhost:8080/",
          "height": 190
        },
        "id": "q6qEMFWfOwHU",
        "outputId": "adcc5734-2a26-4345-fcd0-d15e64354369"
      },
      "execution_count": null,
      "outputs": [
        {
          "output_type": "error",
          "ename": "NameError",
          "evalue": "ignored",
          "traceback": [
            "\u001b[0;31m---------------------------------------------------------------------------\u001b[0m",
            "\u001b[0;31mNameError\u001b[0m                                 Traceback (most recent call last)",
            "\u001b[0;32m<ipython-input-15-ae6e51064308>\u001b[0m in \u001b[0;36m<module>\u001b[0;34m\u001b[0m\n\u001b[1;32m      1\u001b[0m \u001b[0;31m#Visualizando nome das colunas\u001b[0m\u001b[0;34m\u001b[0m\u001b[0;34m\u001b[0m\u001b[0;34m\u001b[0m\u001b[0m\n\u001b[0;32m----> 2\u001b[0;31m \u001b[0mdf\u001b[0m\u001b[0;34m.\u001b[0m\u001b[0mcolumns\u001b[0m\u001b[0;34m\u001b[0m\u001b[0;34m\u001b[0m\u001b[0m\n\u001b[0m",
            "\u001b[0;31mNameError\u001b[0m: name 'df' is not defined"
          ]
        }
      ]
    },
    {
      "cell_type": "code",
      "source": [
        "# 1° forma de renomear colunas\n",
        "df.rename({'product_id':'Id_Product'},axis=1,inplace=True)"
      ],
      "metadata": {
        "colab": {
          "base_uri": "https://localhost:8080/",
          "height": 190
        },
        "id": "h1MGVhNNO0td",
        "outputId": "0f824d1c-148c-4ab7-de38-b0ff4bced3c6"
      },
      "execution_count": null,
      "outputs": [
        {
          "output_type": "error",
          "ename": "NameError",
          "evalue": "ignored",
          "traceback": [
            "\u001b[0;31m---------------------------------------------------------------------------\u001b[0m",
            "\u001b[0;31mNameError\u001b[0m                                 Traceback (most recent call last)",
            "\u001b[0;32m<ipython-input-16-fbb28d95c9fb>\u001b[0m in \u001b[0;36m<module>\u001b[0;34m\u001b[0m\n\u001b[1;32m      1\u001b[0m \u001b[0;31m# 1° forma de renomear colunas\u001b[0m\u001b[0;34m\u001b[0m\u001b[0;34m\u001b[0m\u001b[0;34m\u001b[0m\u001b[0m\n\u001b[0;32m----> 2\u001b[0;31m \u001b[0mdf\u001b[0m\u001b[0;34m.\u001b[0m\u001b[0mrename\u001b[0m\u001b[0;34m(\u001b[0m\u001b[0;34m{\u001b[0m\u001b[0;34m'product_id'\u001b[0m\u001b[0;34m:\u001b[0m\u001b[0;34m'Id_Product'\u001b[0m\u001b[0;34m}\u001b[0m\u001b[0;34m,\u001b[0m\u001b[0maxis\u001b[0m\u001b[0;34m=\u001b[0m\u001b[0;36m1\u001b[0m\u001b[0;34m,\u001b[0m\u001b[0minplace\u001b[0m\u001b[0;34m=\u001b[0m\u001b[0;32mTrue\u001b[0m\u001b[0;34m)\u001b[0m\u001b[0;34m\u001b[0m\u001b[0;34m\u001b[0m\u001b[0m\n\u001b[0m",
            "\u001b[0;31mNameError\u001b[0m: name 'df' is not defined"
          ]
        }
      ]
    },
    {
      "cell_type": "code",
      "source": [
        "df.columns"
      ],
      "metadata": {
        "id": "HJEgGLOLO4xH"
      },
      "execution_count": null,
      "outputs": []
    },
    {
      "cell_type": "code",
      "source": [
        "# 2° forma de renomear colunas\n",
        "df.rename(columns={'product_name':'Product'},inplace=True)"
      ],
      "metadata": {
        "id": "Sg8CKdaKO8B0"
      },
      "execution_count": null,
      "outputs": []
    },
    {
      "cell_type": "markdown",
      "source": [
        "## **SELECIONANDO COLUNAS ESPECÍFICAS**"
      ],
      "metadata": {
        "id": "3leZUNFTO_d-"
      }
    },
    {
      "cell_type": "code",
      "source": [
        "df['Product'].head()"
      ],
      "metadata": {
        "id": "Oj3g48EYPtvE"
      },
      "execution_count": null,
      "outputs": []
    },
    {
      "cell_type": "code",
      "source": [
        "#Selecionando apenas 1 colunas\n",
        "df['price'].tail()"
      ],
      "metadata": {
        "id": "EqMYPh8GPwuh"
      },
      "execution_count": null,
      "outputs": []
    },
    {
      "cell_type": "code",
      "source": [
        "#Criando um novo df a partir de uma coluna específica\n",
        "df_1 = df['price']\n",
        "df_1.head()"
      ],
      "metadata": {
        "id": "h6hqa94_P0ua"
      },
      "execution_count": null,
      "outputs": []
    },
    {
      "cell_type": "code",
      "source": [
        "#Selecionando várias colunas\n",
        "df[['category','price']].head()"
      ],
      "metadata": {
        "id": "nqvmWGSQP4TM"
      },
      "execution_count": null,
      "outputs": []
    },
    {
      "cell_type": "markdown",
      "source": [
        "## **FUNÇÕES MATEMÁTICAS**"
      ],
      "metadata": {
        "id": "aTAiQQQsQAD8"
      }
    },
    {
      "cell_type": "code",
      "source": [
        "#Soma\n",
        "df['price'].sum()"
      ],
      "metadata": {
        "colab": {
          "base_uri": "https://localhost:8080/",
          "height": 190
        },
        "id": "7Xnqv53xQg_i",
        "outputId": "c9920c0b-f06b-4280-96b6-c91a8048bbde"
      },
      "execution_count": null,
      "outputs": [
        {
          "output_type": "error",
          "ename": "NameError",
          "evalue": "ignored",
          "traceback": [
            "\u001b[0;31m---------------------------------------------------------------------------\u001b[0m",
            "\u001b[0;31mNameError\u001b[0m                                 Traceback (most recent call last)",
            "\u001b[0;32m<ipython-input-17-41a25350dd53>\u001b[0m in \u001b[0;36m<module>\u001b[0;34m\u001b[0m\n\u001b[1;32m      1\u001b[0m \u001b[0;31m#Soma\u001b[0m\u001b[0;34m\u001b[0m\u001b[0;34m\u001b[0m\u001b[0;34m\u001b[0m\u001b[0m\n\u001b[0;32m----> 2\u001b[0;31m \u001b[0mdf\u001b[0m\u001b[0;34m[\u001b[0m\u001b[0;34m'price'\u001b[0m\u001b[0;34m]\u001b[0m\u001b[0;34m.\u001b[0m\u001b[0msum\u001b[0m\u001b[0;34m(\u001b[0m\u001b[0;34m)\u001b[0m\u001b[0;34m\u001b[0m\u001b[0;34m\u001b[0m\u001b[0m\n\u001b[0m",
            "\u001b[0;31mNameError\u001b[0m: name 'df' is not defined"
          ]
        }
      ]
    },
    {
      "cell_type": "code",
      "source": [
        "#Média\n",
        "df['price'].mean()"
      ],
      "metadata": {
        "id": "-C1UIhAOQjNc"
      },
      "execution_count": null,
      "outputs": []
    },
    {
      "cell_type": "code",
      "source": [
        "#Mediana\n",
        "df['price'].median()"
      ],
      "metadata": {
        "id": "9_Io2aIUQmQi"
      },
      "execution_count": null,
      "outputs": []
    },
    {
      "cell_type": "code",
      "source": [
        "#Desvio padrão\n",
        "df['price'].std()"
      ],
      "metadata": {
        "id": "zPB5OKVxQqkB"
      },
      "execution_count": null,
      "outputs": []
    },
    {
      "cell_type": "code",
      "source": [
        "#Contagem\n",
        "df['price'].count"
      ],
      "metadata": {
        "id": "4aqIXcXLQto7"
      },
      "execution_count": null,
      "outputs": []
    },
    {
      "cell_type": "code",
      "source": [
        "#Moda\n",
        "df['price'].mode"
      ],
      "metadata": {
        "id": "-CNGuwa4Qx7j"
      },
      "execution_count": null,
      "outputs": []
    },
    {
      "cell_type": "code",
      "source": [
        "#Máximo\n",
        "df['price'].max()"
      ],
      "metadata": {
        "id": "zSnfa2ISQ1NL"
      },
      "execution_count": null,
      "outputs": []
    },
    {
      "cell_type": "code",
      "source": [
        "#Mínimo\n",
        "df['price'].min()"
      ],
      "metadata": {
        "id": "-jmrEKJFQ4uI"
      },
      "execution_count": null,
      "outputs": []
    },
    {
      "cell_type": "code",
      "source": [
        "#Índice do valor máximo\n",
        "df['price'].idxmax()"
      ],
      "metadata": {
        "id": "6UjUlqnOQ71Q"
      },
      "execution_count": null,
      "outputs": []
    },
    {
      "cell_type": "code",
      "source": [
        "#Índice do valor mínimo\n",
        "df['price'].idxmin()"
      ],
      "metadata": {
        "id": "nYqXKVv6Q-9_"
      },
      "execution_count": null,
      "outputs": []
    },
    {
      "cell_type": "code",
      "source": [
        "df['lucro'] = df['price']*0.3"
      ],
      "metadata": {
        "id": "Q5nc5_L0RBgH"
      },
      "execution_count": null,
      "outputs": []
    },
    {
      "cell_type": "code",
      "source": [
        "df.head()"
      ],
      "metadata": {
        "id": "eDJt8H7FREC5"
      },
      "execution_count": null,
      "outputs": []
    },
    {
      "cell_type": "code",
      "source": [
        "df['lucro'].sum()"
      ],
      "metadata": {
        "id": "GlufdXOyRHuf"
      },
      "execution_count": null,
      "outputs": []
    },
    {
      "cell_type": "markdown",
      "source": [
        "## **SELECIONANDO PELO ÍNDICE - ILOC**"
      ],
      "metadata": {
        "id": "PpwXZ-IBRPv-"
      }
    },
    {
      "cell_type": "code",
      "source": [
        "#Em uma mesma coluna\n",
        "df.iloc[100]"
      ],
      "metadata": {
        "id": "mxXpfHGGSQot"
      },
      "execution_count": null,
      "outputs": []
    },
    {
      "cell_type": "code",
      "source": [
        "#Em uma mesma linha\n",
        "df.iloc[[100]]"
      ],
      "metadata": {
        "id": "hTkcCxXwSTdn"
      },
      "execution_count": null,
      "outputs": []
    },
    {
      "cell_type": "code",
      "source": [
        "#Selecionado várias linhas\n",
        "df.iloc[[100,1429,1118]]"
      ],
      "metadata": {
        "id": "xuB9b8kASXSd"
      },
      "execution_count": null,
      "outputs": []
    },
    {
      "cell_type": "code",
      "source": [
        "#Selecionado várias linhas entre índicas\n",
        "df.iloc[100:105]"
      ],
      "metadata": {
        "id": "zW6gmQjzSaz3"
      },
      "execution_count": null,
      "outputs": []
    },
    {
      "cell_type": "code",
      "source": [
        "df_new = df.iloc[2:190]"
      ],
      "metadata": {
        "id": "M_XW1rcSSeAZ"
      },
      "execution_count": null,
      "outputs": []
    },
    {
      "cell_type": "code",
      "source": [
        "df['category'].iloc[100]"
      ],
      "metadata": {
        "id": "HGxQiOzzSiaV"
      },
      "execution_count": null,
      "outputs": []
    },
    {
      "cell_type": "code",
      "source": [
        "df[['category','sub_category','price']].iloc[[100]]"
      ],
      "metadata": {
        "id": "qA-qgrS3UccI"
      },
      "execution_count": null,
      "outputs": []
    },
    {
      "cell_type": "markdown",
      "source": [
        "## **OPERADOR DE SELEÇÃO - LOC (FILTRO)**"
      ],
      "metadata": {
        "id": "eOysbJ2GUg7q"
      }
    },
    {
      "cell_type": "code",
      "source": [
        "df.loc[df['sub_category']=='Phones']"
      ],
      "metadata": {
        "id": "xGjaYa2MUoeK"
      },
      "execution_count": null,
      "outputs": []
    },
    {
      "cell_type": "code",
      "source": [
        "#Selecionando colunas específicas para filtrar\n",
        "df[['Id_Product','category','price']].loc[df['category']=='Technology']"
      ],
      "metadata": {
        "id": "Kwynjsf8UrdI"
      },
      "execution_count": null,
      "outputs": []
    },
    {
      "cell_type": "code",
      "source": [
        "#Utilizando vários filtros\n",
        "df[['Id_Product','category','sub_category','price']]\\\n",
        ".loc[(df['category']=='Technology') \\\n",
        "     & (df['sub_category']=='Phones')]"
      ],
      "metadata": {
        "id": "bWl3m_bFUw1w"
      },
      "execution_count": null,
      "outputs": []
    },
    {
      "cell_type": "code",
      "source": [
        "#Selecionando a partir do valor do produto\n",
        "df.loc[df['price']<100]"
      ],
      "metadata": {
        "id": "BprGj9vEUz81"
      },
      "execution_count": null,
      "outputs": []
    },
    {
      "cell_type": "code",
      "source": [
        "#Criando nova coluna\n",
        "df.loc[df['price'] <= 100, 'Faixa'] = 'Menor que ou igual 100'\n",
        "df.loc[df['price'] >= 100, 'Faixa'] = 'Maior que ou igual 100'"
      ],
      "metadata": {
        "id": "y3lT2jPAU30x"
      },
      "execution_count": null,
      "outputs": []
    },
    {
      "cell_type": "code",
      "source": [
        "#Observando a nova coluna\n",
        "df.head()"
      ],
      "metadata": {
        "id": "4M5hFphFU6wo"
      },
      "execution_count": null,
      "outputs": []
    },
    {
      "cell_type": "markdown",
      "source": [
        "## **GROUPBY: AGRUPAR INFORMAÇÕES**"
      ],
      "metadata": {
        "id": "MleBS4hYVAI2"
      }
    },
    {
      "cell_type": "code",
      "source": [
        "#Agrupando preço médio por categoria\n",
        "df.groupby('category').mean()"
      ],
      "metadata": {
        "id": "N_8B67n7VJQ3"
      },
      "execution_count": null,
      "outputs": []
    },
    {
      "cell_type": "code",
      "source": [
        "df.groupby('category').sum()"
      ],
      "metadata": {
        "id": "7cSLdThfVMjY"
      },
      "execution_count": null,
      "outputs": []
    },
    {
      "cell_type": "code",
      "source": [
        "df.groupby(['category','sub_category']).median()"
      ],
      "metadata": {
        "id": "bWsCQBCEVPVB"
      },
      "execution_count": null,
      "outputs": []
    },
    {
      "cell_type": "code",
      "source": [
        "#Categorizando\n",
        "import sys"
      ],
      "metadata": {
        "id": "BZcKs-pEVRb8"
      },
      "execution_count": null,
      "outputs": []
    },
    {
      "cell_type": "code",
      "source": [
        "df.head(10)"
      ],
      "metadata": {
        "colab": {
          "base_uri": "https://localhost:8080/",
          "height": 171
        },
        "id": "45xTKKvZVWBY",
        "outputId": "b5a6ad06-2cd7-4198-e55e-1209caeb5298"
      },
      "execution_count": null,
      "outputs": [
        {
          "output_type": "error",
          "ename": "NameError",
          "evalue": "ignored",
          "traceback": [
            "\u001b[0;31m---------------------------------------------------------------------------\u001b[0m",
            "\u001b[0;31mNameError\u001b[0m                                 Traceback (most recent call last)",
            "\u001b[0;32m<ipython-input-19-4a676c3d8c05>\u001b[0m in \u001b[0;36m<module>\u001b[0;34m\u001b[0m\n\u001b[0;32m----> 1\u001b[0;31m \u001b[0mdf\u001b[0m\u001b[0;34m.\u001b[0m\u001b[0mhead\u001b[0m\u001b[0;34m(\u001b[0m\u001b[0;36m10\u001b[0m\u001b[0;34m)\u001b[0m\u001b[0;34m\u001b[0m\u001b[0;34m\u001b[0m\u001b[0m\n\u001b[0m",
            "\u001b[0;31mNameError\u001b[0m: name 'df' is not defined"
          ]
        }
      ]
    },
    {
      "cell_type": "code",
      "source": [
        "df.groupby(['Faixa']).count()"
      ],
      "metadata": {
        "id": "vILJWxKVVZmG"
      },
      "execution_count": null,
      "outputs": []
    },
    {
      "cell_type": "markdown",
      "source": [
        "## **ORDENAR DADOS/SORT VALUES**"
      ],
      "metadata": {
        "id": "cllgg-zTVcXw"
      }
    },
    {
      "cell_type": "code",
      "source": [
        "#Ordenando do maior para o menor em relação ao preço\n",
        "df.sort_values('price',ascending=False).head(10)"
      ],
      "metadata": {
        "id": "dRYOwpg8VjSV"
      },
      "execution_count": null,
      "outputs": []
    },
    {
      "cell_type": "code",
      "source": [
        "#Ordenando do menor para o maior em relação ao preço\n",
        "df.sort_values('price',ascending=True).head()"
      ],
      "metadata": {
        "id": "Au9qYQ-zVluK"
      },
      "execution_count": null,
      "outputs": []
    },
    {
      "cell_type": "markdown",
      "source": [
        "## **DELETANDO COLUNA**"
      ],
      "metadata": {
        "id": "TWNGzgftVsh1"
      }
    },
    {
      "cell_type": "code",
      "source": [
        "#Drop : apaga a coluna com eixo = 1\n",
        "df.drop('Faixa', axis=1, inplace= True)"
      ],
      "metadata": {
        "id": "kZQwTwLsVxmE"
      },
      "execution_count": null,
      "outputs": []
    },
    {
      "cell_type": "code",
      "source": [
        "df.head()"
      ],
      "metadata": {
        "id": "khe2NKC5V1Ll"
      },
      "execution_count": null,
      "outputs": []
    },
    {
      "cell_type": "markdown",
      "source": [
        "## **SALVANDO ARQUIVO**"
      ],
      "metadata": {
        "id": "MEzJjWDuV6FE"
      }
    },
    {
      "cell_type": "code",
      "source": [
        "df.to_excel('/content/planilha.xlsx')"
      ],
      "metadata": {
        "colab": {
          "base_uri": "https://localhost:8080/",
          "height": 171
        },
        "id": "V6o3O3v-V_cU",
        "outputId": "2f360534-003c-4af1-df05-79a161f7c7fc"
      },
      "execution_count": null,
      "outputs": [
        {
          "output_type": "error",
          "ename": "NameError",
          "evalue": "ignored",
          "traceback": [
            "\u001b[0;31m---------------------------------------------------------------------------\u001b[0m",
            "\u001b[0;31mNameError\u001b[0m                                 Traceback (most recent call last)",
            "\u001b[0;32m<ipython-input-20-6c6ed74b0462>\u001b[0m in \u001b[0;36m<module>\u001b[0;34m\u001b[0m\n\u001b[0;32m----> 1\u001b[0;31m \u001b[0mdf\u001b[0m\u001b[0;34m.\u001b[0m\u001b[0mto_excel\u001b[0m\u001b[0;34m(\u001b[0m\u001b[0;34m'/content/planilha.xlsx'\u001b[0m\u001b[0;34m)\u001b[0m\u001b[0;34m\u001b[0m\u001b[0;34m\u001b[0m\u001b[0m\n\u001b[0m",
            "\u001b[0;31mNameError\u001b[0m: name 'df' is not defined"
          ]
        }
      ]
    },
    {
      "cell_type": "markdown",
      "source": [
        "## **OPERAÇÕES DE TABELA**"
      ],
      "metadata": {
        "id": "lu3zlYzjWKnF"
      }
    },
    {
      "cell_type": "code",
      "source": [
        "sales = pd.read_csv('/content/drive/MyDrive/Bases de Dados/sales.csv',delimiter =';')\n",
        "product = pd.read_csv('/content/drive/MyDrive/Bases de Dados/product.csv',delimiter =';')"
      ],
      "metadata": {
        "id": "avLMgURJWOnd"
      },
      "execution_count": null,
      "outputs": []
    },
    {
      "cell_type": "code",
      "source": [
        "sales.info()"
      ],
      "metadata": {
        "id": "zUXNz7BcWSQA"
      },
      "execution_count": null,
      "outputs": []
    },
    {
      "cell_type": "code",
      "source": [
        "product.info()"
      ],
      "metadata": {
        "id": "iurBjOeLWUZu"
      },
      "execution_count": null,
      "outputs": []
    },
    {
      "cell_type": "code",
      "source": [
        "sales.head()"
      ],
      "metadata": {
        "id": "3IlSuHhcWX40"
      },
      "execution_count": null,
      "outputs": []
    },
    {
      "cell_type": "code",
      "source": [
        "product.head()"
      ],
      "metadata": {
        "id": "q14_2jOOWbta"
      },
      "execution_count": null,
      "outputs": []
    },
    {
      "cell_type": "code",
      "source": [
        "#Método Merge : unir as bases\n",
        "m = pd.merge(sales, product , on='product_id' ,  how='left')"
      ],
      "metadata": {
        "id": "D3XZhUciWej4"
      },
      "execution_count": null,
      "outputs": []
    },
    {
      "cell_type": "code",
      "source": [
        "#Visualizando a dataframe\n",
        "m.head()"
      ],
      "metadata": {
        "id": "PO0EOJPtWhYP"
      },
      "execution_count": null,
      "outputs": []
    },
    {
      "cell_type": "markdown",
      "source": [
        "## **CONCAT**"
      ],
      "metadata": {
        "id": "JUuwChMMWon2"
      }
    },
    {
      "cell_type": "markdown",
      "source": [
        "O método Concat faz a junção dos dataframes"
      ],
      "metadata": {
        "id": "m99Bwr5KWv9Y"
      }
    },
    {
      "cell_type": "code",
      "source": [
        "m[0:9]"
      ],
      "metadata": {
        "id": "RW4aF7QNWyqp"
      },
      "execution_count": null,
      "outputs": []
    },
    {
      "cell_type": "code",
      "source": [
        "m[10:19]"
      ],
      "metadata": {
        "id": "sWK23-OSW09_"
      },
      "execution_count": null,
      "outputs": []
    },
    {
      "cell_type": "code",
      "source": [
        "#Criando um dataframe com partes do anterior\n",
        "m_1 = m[0:9]\n",
        "m_2 = m[10:20]"
      ],
      "metadata": {
        "id": "bFbJIcXoW3e7"
      },
      "execution_count": null,
      "outputs": []
    },
    {
      "cell_type": "code",
      "source": [
        "#Concatenando\n",
        "conc = pd.concat([m_1,m_2])"
      ],
      "metadata": {
        "id": "nziwucmLW6Wm"
      },
      "execution_count": null,
      "outputs": []
    },
    {
      "cell_type": "code",
      "source": [
        "conc.head(20)"
      ],
      "metadata": {
        "id": "mKla9grEW9-H"
      },
      "execution_count": null,
      "outputs": []
    }
  ]
}